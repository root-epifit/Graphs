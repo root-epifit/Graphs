{
  "nbformat": 4,
  "nbformat_minor": 0,
  "metadata": {
    "colab": {
      "provenance": [],
      "toc_visible": true
    },
    "kernelspec": {
      "display_name": "Python 3",
      "language": "python",
      "name": "python3"
    },
    "language_info": {
      "codemirror_mode": {
        "name": "ipython",
        "version": 3
      },
      "file_extension": ".py",
      "mimetype": "text/x-python",
      "name": "python",
      "nbconvert_exporter": "python",
      "pygments_lexer": "ipython3",
      "version": "3.7.6"
    }
  },
  "cells": [
    {
      "cell_type": "markdown",
      "metadata": {
        "id": "BvNNfs06t2Yt"
      },
      "source": [
        "# Случайность\n",
        "\n",
        "В этом ноутбуке мы рассмотрим примеры работы с вероятностью в Python"
      ]
    },
    {
      "cell_type": "code",
      "metadata": {
        "id": "wjYRqTXLt2Yu",
        "colab": {
          "base_uri": "https://localhost:8080/"
        },
        "outputId": "597bf0ae-f1a0-4a4a-aae0-e999d160dede"
      },
      "source": [
        "import random as rand\n",
        "\n",
        "print(\"Случайное число от 0 до 5:\", rand.randrange(6))\n",
        "\n",
        "print(\"Случайное число от 1 до 6:\", rand.randrange(1,7))\n",
        "\n",
        "print(\"Случайная буква из A, B, C, D:\", rand.choice('ABCD'))\n",
        "\n",
        "lottery_results = rand.choices(['1000 рублей', '100 рублей', '0 рублей'], [1, 10, 89], k=10)\n",
        "\n",
        "print(\"10 cлучайных результатов в лотерее:\", lottery_results)\n",
        "print(\"Общий выигрыш:\", 100 * lottery_results.count('100 рублей') + 1000 * lottery_results.count('1000 рублей'), \"рублей\")"
      ],
      "execution_count": 3,
      "outputs": [
        {
          "output_type": "stream",
          "name": "stdout",
          "text": [
            "Случайное число от 0 до 5: 4\n",
            "Случайное число от 1 до 6: 2\n",
            "Случайная буква из A, B, C, D: C\n",
            "10 cлучайных результатов в лотерее: ['0 рублей', '0 рублей', '0 рублей', '100 рублей', '0 рублей', '0 рублей', '0 рублей', '0 рублей', '0 рублей', '0 рублей']\n",
            "Общий выигрыш: 100 рублей\n"
          ]
        }
      ]
    },
    {
      "cell_type": "code",
      "metadata": {
        "id": "l3hooURXt2Y0",
        "colab": {
          "base_uri": "https://localhost:8080/"
        },
        "outputId": "f9b571f5-fabc-4fe4-ed93-3e09326897e9"
      },
      "source": [
        "# Считаем среднюю оценку за тест\n",
        "\n",
        "from statistics import mean\n",
        "\n",
        "mean([78,72,87])"
      ],
      "execution_count": 4,
      "outputs": [
        {
          "output_type": "execute_result",
          "data": {
            "text/plain": [
              "79"
            ]
          },
          "metadata": {},
          "execution_count": 4
        }
      ]
    },
    {
      "cell_type": "code",
      "metadata": {
        "id": "I2S_XLswt2Y2",
        "colab": {
          "base_uri": "https://localhost:8080/"
        },
        "outputId": "3f6c312a-598b-4690-88d2-67b4b4963991"
      },
      "source": [
        "# Считаем среднее значение на кубике в серии бросаний\n",
        "\n",
        "mean(i for i in rand.choices(range(1,7),k=1000))"
      ],
      "execution_count": 17,
      "outputs": [
        {
          "output_type": "execute_result",
          "data": {
            "text/plain": [
              "3.465"
            ]
          },
          "metadata": {},
          "execution_count": 17
        }
      ]
    }
  ]
}