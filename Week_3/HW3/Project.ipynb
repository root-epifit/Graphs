{
  "nbformat": 4,
  "nbformat_minor": 0,
  "metadata": {
    "celltoolbar": "Create Assignment",
    "kernelspec": {
      "display_name": "Python 3",
      "language": "python",
      "name": "python3"
    },
    "language_info": {
      "codemirror_mode": {
        "name": "ipython",
        "version": 3
      },
      "file_extension": ".py",
      "mimetype": "text/x-python",
      "name": "python",
      "nbconvert_exporter": "python",
      "pygments_lexer": "ipython3",
      "version": "3.7.6"
    },
    "colab": {
      "provenance": [],
      "toc_visible": true,
      "include_colab_link": true
    }
  },
  "cells": [
    {
      "cell_type": "markdown",
      "metadata": {
        "id": "view-in-github",
        "colab_type": "text"
      },
      "source": [
        "<a href=\"https://colab.research.google.com/github/root-epifit/Graphs/blob/main/Week_3/HW3/Project.ipynb\" target=\"_parent\"><img src=\"https://colab.research.google.com/assets/colab-badge.svg\" alt=\"Open In Colab\"/></a>"
      ]
    },
    {
      "cell_type": "markdown",
      "metadata": {
        "nbgrader": {
          "grade": false,
          "grade_id": "cell-3ca52623de90cf0d",
          "locked": true,
          "schema_version": 3,
          "solution": false,
          "task": false
        },
        "id": "RL1j7mY-GhAS"
      },
      "source": [
        "# Построение рекомендательной системы\n",
        "\n",
        "В этом нотбуке мы выполним наш проект — построим рекомендательную систему, основанную на методах, которые мы обсудили на занятии.\n",
        "\n",
        "Для этого мы будем использовать данные от Амазон. Граф размещен в отдельном файле, он загружается в первом блоке.\n",
        "\n",
        "Нам нужно будет реализовать четыре метода, обсуждавшиеся на занятии, и протестировать их. Но общий подход во всех четырех методах один и тот же: \n",
        "1. мы фиксируем вершину (в коде ниже это переменная `query`); \n",
        "2. удаляем некоторые смежные с ней ребра (в коде ниже это список `samp`); \n",
        "3. вычисляем специально определенное расстояние между нашей вершиной и всеми остальными (методы различаются как раз выбором расстояния);\n",
        "4. выбираем вершины с наименьшим расстоянием до выбранной, это те вершины, в которые метод предлагает провести ребра;\n",
        "5. сравниваем предложенные методом ребра с удаленными, чем больше совпадений, тем лучше сработал метод.\n",
        "\n",
        "Вспомогательные шаги уже реализованы ниже. Шаг 2 реализован в функции `generate_dict`. Шаги 4-5 реализованы в функции `check_answer`. Вам нужно реализовать только шаги 3 для всех методов.\n",
        "\n",
        "В первом методе, который нужно реализовать, расстоянием является просто число общих соседей. Во втором методе нужно будет посчитать усеченные моменты достижения из выбранной вершины. Их мы подсчитываем приближенно, запуская случайное блуждание несколько раз. Сначала нужно реализовать функцию для одного случайного блуждания, затем функцию для приближенного вычисления усеченных моментов достижения. Длину блуждания мы фиксируем равной 10. В третьем методе нужно посчитать усеченные моменты достижения в вершину. Для них у нас есть рекуррентная формула. Наконец, в последнем методе нужно просто посчитать суммы результатов двух предыдущих методов.\n",
        "\n",
        "Мы подробно обсуждали все эти методы на занятии. Ниже вы также можете найти поясняющие комментарии.\n",
        "\n",
        "Добавьте ваше решение между строками \"BEGIN SOLUTION\" и \"END SOLUTION\". Желательно не менять остальной код.\n",
        "\n",
        "---\n",
        "**Правила сдачи и оценивания.** Это задание является проектом курса, оно оценивается в 30 баллов плюс 15 бонусных баллов.\n",
        "\n",
        "Дедлайн по выполнению проекта --- **1 марта в 19:00**. Решения нужно отправить по адресу pygraphs.sber@gmail.com. Решения будут проверены до 19:00 2 марта. \n",
        "\n",
        "Также можно отправить решения до **19:00 27 февраля**. Тогда они будут проверены до 19:00 28 февраля и в случае наличия ошибок можно будет успеть их исправить до основного дедлайна.\n",
        "\n",
        "В задании нужно реализовать 4 метода, описанных выше, каждый из них можно реализовывать независимо от остальных (хотя последний метод использует два предыдущих, для его реализации можно использовать лишь функции, реализация которых требуется в предыдущих методах). Первый метод оценивается в 13 баллов. Второй и третий метод оцениваются в 15 баллов каждый. Четвертый метод оценивается в 2 балла.\n",
        "\n",
        "---"
      ]
    },
    {
      "cell_type": "code",
      "source": [
        "from google.colab import drive\n",
        "drive.mount('/content/drive')\n",
        "\n",
        "#!cp /content/drive/MyDrive/'Теория графов'/amazon0302.txt /content"
      ],
      "metadata": {
        "id": "fxFQ_oKPtmIa",
        "outputId": "4b2cd497-47e9-4431-92a1-771eff032b7e",
        "colab": {
          "base_uri": "https://localhost:8080/"
        }
      },
      "execution_count": 1,
      "outputs": [
        {
          "output_type": "stream",
          "name": "stdout",
          "text": [
            "Drive already mounted at /content/drive; to attempt to forcibly remount, call drive.mount(\"/content/drive\", force_remount=True).\n"
          ]
        }
      ]
    },
    {
      "cell_type": "code",
      "source": [
        "!cp /content/drive/MyDrive/'Теория графов'/amazon0302.txt /content"
      ],
      "metadata": {
        "id": "GBRHae4M675A"
      },
      "execution_count": 2,
      "outputs": []
    },
    {
      "cell_type": "code",
      "metadata": {
        "nbgrader": {
          "grade": false,
          "grade_id": "cell-f3d34abd29a6eb84",
          "locked": true,
          "schema_version": 3,
          "solution": false,
          "task": false
        },
        "id": "DudgKvkzGhAZ"
      },
      "source": [
        "# В этом блоке мы загружаем граф из файла и приводим его в вид, удобный для работы\n",
        "\n",
        "import networkx as nx\n",
        "\n",
        "amazon = nx.read_edgelist(\"amazon0302.txt\", create_using=nx.Graph(), nodetype=int, data=False)\n",
        "amazon = nx.convert_node_labels_to_integers(amazon, ordering='decreasing degree')\n",
        "nodes = amazon.number_of_nodes()"
      ],
      "execution_count": 3,
      "outputs": []
    },
    {
      "cell_type": "code",
      "metadata": {
        "nbgrader": {
          "grade": false,
          "grade_id": "cell-9f0ea5788c427888",
          "locked": true,
          "schema_version": 3,
          "solution": false,
          "task": false
        },
        "id": "X3DDHv2YGhAZ"
      },
      "source": [
        "# В этом блоке собраны вспомогательные функции, которые нужны для реализации проекта\n",
        "# Вам не обязательно их использовать, часть, где они необходимы, уже реализована в рамках проверок\n",
        "\n",
        "# Эта функция получив на вход список возвращает список его индексов, упорядоченный по значению меток изначального списка\n",
        "def index_sorted(a, reverse=False):\n",
        "    return sorted(range(len(a)), key=lambda k: a[k], reverse=reverse)\n",
        "\n",
        "# Эта функция позволяет выбрать ответ из посчитанных расстояний и сравнить его с целевым значением. \n",
        "# Она выбирает нужное количество вершин с минимальным расстоянием и находит число совпадений с удаленными ребрами.\n",
        "# Здесь stat — это список с расстояниями, а samp — список выбираемых вершин с минимальным расстоянием.\n",
        "def check_answer(stat, samp, reverse=False): \n",
        "    index_dist = index_sorted(stat, reverse)\n",
        "    guess = index_dist[:len(samp)]\n",
        "    return len(set(samp) & set(guess))\n",
        "\n",
        "# Эта функция генерирует тестовый пример, удаляя данные ей ребра из графа.\n",
        "# Здесь samp — количество удаляемых ребер.\n",
        "# Здесь мы также конвертируем граф в словарь списков\n",
        "def generate_dict(query, samp):\n",
        "    graph = amazon.copy()\n",
        "    for i in samp:\n",
        "        graph.remove_edge(query, i)\n",
        "    return nx.convert.to_dict_of_lists(graph)"
      ],
      "execution_count": 4,
      "outputs": []
    },
    {
      "cell_type": "code",
      "source": [
        "# Здесь показан пример работы функции index_sorted\n",
        "\n",
        "a = [3,-1,1,7,6]\n",
        "\n",
        "print(\"Список индексов в порядке возрастания ячеек a:\", index_sorted(a))\n",
        "print(\"Список индексов в порядке убывания ячеек a:\", index_sorted(a, True))"
      ],
      "metadata": {
        "id": "FNzX79ppeb7C",
        "outputId": "a8cc3195-f7b2-4967-f38d-c7c7fe6ddb39",
        "colab": {
          "base_uri": "https://localhost:8080/"
        }
      },
      "execution_count": 5,
      "outputs": [
        {
          "output_type": "stream",
          "name": "stdout",
          "text": [
            "Список индексов в порядке возрастания ячеек a: [1, 2, 0, 4, 3]\n",
            "Список индексов в порядке убывания ячеек a: [3, 4, 0, 2, 1]\n"
          ]
        }
      ]
    },
    {
      "cell_type": "code",
      "metadata": {
        "id": "nPBxlj4x1XdC"
      },
      "source": [
        "# В отличие от функций в блоке выше, которые уже использованы в проверках,\n",
        "# эта является подсказкой к тому, что вам самим нужно сделать после работы\n",
        "# каждого из алгоритмов (в блоках SOLUTION). Конечно, эту функцию можно\n",
        "# менять, если вам будет нужно.\n",
        "\n",
        "def exclude_obvious_answers(graph, query, answers, worst_metric):\n",
        "  '''\n",
        "    Исключает `query` и её соседей из ответа.\n",
        "    graph - коллекция списков связности (например, dict-of-lists)\n",
        "    query - исключаемая вершина\n",
        "    answers - коллекция метрик\n",
        "    worst_metric - худший результат метрики (если меньше — лучше, то\n",
        "      максимальная из возможных)\n",
        "  '''\n",
        "  answers[query] = worst_metric\n",
        "  for neigh in graph[query]:\n",
        "    answers[neigh] = worst_metric"
      ],
      "execution_count": 6,
      "outputs": []
    },
    {
      "cell_type": "code",
      "source": [
        "# Здесь собраны полезные команды\n",
        "\n",
        "a = [2,0,1,4,3]\n",
        "b = [0, 5, 6, 3]\n",
        "\n",
        "print(\"Преобразуем a в множество:\",set(a))\n",
        "\n",
        "print(\"Пересекаем два множества set(a) и set(b):\",set(a) & set(b))\n",
        "\n",
        "print(\"Возвращаем длину списка a:\", len(a))\n",
        "\n",
        "print(\"Возвращаем размер множества set(b):\", len(set(b)))\n"
      ],
      "metadata": {
        "id": "IbBQtWIfkP8m",
        "outputId": "8b2cde7e-c6d6-4f67-8643-74bbe8b397b1",
        "colab": {
          "base_uri": "https://localhost:8080/"
        }
      },
      "execution_count": 7,
      "outputs": [
        {
          "output_type": "stream",
          "name": "stdout",
          "text": [
            "Преобразуем a в множество: {0, 1, 2, 3, 4}\n",
            "Пересекаем два множества set(a) и set(b): {0, 3}\n",
            "Возвращаем длину списка a: 5\n",
            "Возвращаем размер множества set(b): 4\n"
          ]
        }
      ]
    },
    {
      "cell_type": "code",
      "metadata": {
        "nbgrader": {
          "grade": false,
          "grade_id": "cell-0f6fc08ec9cfd596",
          "locked": false,
          "schema_version": 3,
          "solution": true,
          "task": false
        },
        "id": "jbsLUl1fGhAa"
      },
      "source": [
        "# В этом блоке требуется реализовать метод числа общих соседей. \n",
        "# Функция в ячейке i списка common_neigh должна сохранить число общих соседей query и i. \n",
        "# Но есть одна тонкость: ячейку с номером query и с номерами ее соседей правильно обнулить, \n",
        "# а то нам будут рекомендовать соединить query с query или ее соседями\n",
        "# Это можно сделать с помощью функции exclude_obvious_answers\n",
        "\n",
        "def common_neighbours(graph, query):\n",
        "    common_neigh = [0] * len(graph)\n",
        "    ### BEGIN SOLUTION\n",
        "\n",
        "    for (i,_) in enumerate(common_neigh):\n",
        "        common_neigh[i] = len(list(set(graph[query]) & set(graph[i])))\n",
        "        \n",
        "    exclude_obvious_answers(graph, query, common_neigh, min(common_neigh))\n",
        "\n",
        "    ### END SOLUTION\n",
        "    return common_neigh"
      ],
      "execution_count": 8,
      "outputs": []
    },
    {
      "cell_type": "markdown",
      "metadata": {
        "id": "2cySKJHOESV-"
      },
      "source": [
        "На примерах в следующем блоке вы можете протестировать ваши решения.\n",
        "Важно: тесты нужны для самопроверки, оцениваться будет само решение."
      ]
    },
    {
      "cell_type": "code",
      "metadata": {
        "nbgrader": {
          "grade": true,
          "grade_id": "cell-ae27a95f13fd800b",
          "locked": true,
          "points": 1,
          "schema_version": 3,
          "solution": false,
          "task": false
        },
        "id": "qj-XA5HtGhAa"
      },
      "source": [
        "query = 422\n",
        "samp = [35561, 98891, 157171, 3060, 198304, 28054, 226896, 20673, 110999, 125875, 125877, 20342, 208996, 205186, 829, 189415, 212872, 164896, 104718, 78418]\n",
        "graph = generate_dict(query, samp)\n",
        "\n",
        "test_query = 377\n",
        "test_samp = [202525, 196341, 169969, 29141, 159961, 38249, 101144, 1157, 40361, 99572, 64355, 127194, 109845, 217286, 125972, 77367, 6658, 26295, 47705, 200935]\n",
        "test_graph = generate_dict(test_query, test_samp)"
      ],
      "execution_count": 9,
      "outputs": []
    },
    {
      "cell_type": "code",
      "source": [
        "ans = common_neighbours(graph, query)\n",
        "\n",
        "ind_sort = index_sorted(ans, reverse=True)[:len(samp)]\n",
        "chck_ans = check_answer(ans, samp, reverse=True)\n",
        "print(\"Ваши ответы:\")\n",
        "print(\"ТОП по числу соседей:\", ind_sort)\n",
        "print(\"Число совпадений с удалёнными рёбрами:\", chck_ans)\n",
        "print(\"Если получилось 5, возможно, вы забыли исключить query и соседей\")\n",
        "print(\"Если получилось 0, возможно, вы неправильно использовали exclude_obvious_answers\")\n",
        "\n",
        "print(\"Результаты тестов:\")\n",
        "assert chck_ans == 8\n",
        "assert ind_sort == [829, 3060, 20673, 13141, 21150, 35561, 36377, 103988, 110999, 172699, 4863, 8961, 10572, 16003, 20342, 28054, 53201, 70084, 70323, 104718]\n",
        "print(\"Сработало!\")"
      ],
      "metadata": {
        "colab": {
          "base_uri": "https://localhost:8080/"
        },
        "id": "fRzn5qvaK6nz",
        "outputId": "da2c99ca-1294-42b7-f366-8a0c48a9d3a8"
      },
      "execution_count": 10,
      "outputs": [
        {
          "output_type": "stream",
          "name": "stdout",
          "text": [
            "Ваши ответы:\n",
            "ТОП по числу соседей: [829, 3060, 20673, 13141, 21150, 35561, 36377, 103988, 110999, 172699, 4863, 8961, 10572, 16003, 20342, 28054, 53201, 70084, 70323, 104718]\n",
            "Число совпадений с удалёнными рёбрами: 8\n",
            "Если получилось 5, возможно, вы забыли исключить query и соседей\n",
            "Если получилось 0, возможно, вы неправильно использовали exclude_obvious_answers\n",
            "Результаты тестов:\n",
            "Сработало!\n"
          ]
        }
      ]
    },
    {
      "cell_type": "code",
      "metadata": {
        "id": "Y_YmyRMm7qH8",
        "colab": {
          "base_uri": "https://localhost:8080/"
        },
        "outputId": "79c1960e-7b9d-4979-97ff-bc65bf56d918"
      },
      "source": [
        "ind_sort = index_sorted(common_neighbours(test_graph, test_query), reverse=True)[:len(test_samp)]\n",
        "print(\"ТОП по числу соседей:\", ind_sort)\n",
        "assert ind_sort == [6658, 26295, 99789, 125972, 134665, 134666, 185446, 17364, 29519, 40361, 64355, 162514, 169969, 183713, 216721, 217286, 222821, 7693, 10838, 16638]\n",
        "print(\"Сработало!\")"
      ],
      "execution_count": 12,
      "outputs": [
        {
          "output_type": "stream",
          "name": "stdout",
          "text": [
            "ТОП по числу соседей: [6658, 26295, 99789, 125972, 134665, 134666, 185446, 17364, 29519, 40361, 64355, 162514, 169969, 183713, 216721, 217286, 222821, 7693, 10838, 16638]\n",
            "Сработало!\n"
          ]
        }
      ]
    },
    {
      "cell_type": "code",
      "source": [
        "# Здесь собраны полезные команды для реализации следующего блока\n",
        "\n",
        "import random\n",
        "\n",
        "print(\"Находим случайного соседа вершины 100:\", random.choice(graph[100]))"
      ],
      "metadata": {
        "id": "bTmeRqfZlrqD",
        "colab": {
          "base_uri": "https://localhost:8080/"
        },
        "outputId": "170c2894-1d71-4305-deb7-c3bcfec69054"
      },
      "execution_count": 13,
      "outputs": [
        {
          "output_type": "stream",
          "name": "stdout",
          "text": [
            "Находим случайного соседа вершины 100: 175648\n"
          ]
        }
      ]
    },
    {
      "cell_type": "code",
      "metadata": {
        "nbgrader": {
          "grade": false,
          "grade_id": "cell-ca0306565176b0bf",
          "locked": false,
          "schema_version": 3,
          "solution": true,
          "task": false
        },
        "id": "QKJ5iOUtGhAb"
      },
      "source": [
        "# В этом блоке требуется реализовать метод случайных блужданий.\n",
        "# Обратите внимание на массив used: его можно использовать для того, чтобы проверять, посещалась ли вершина в блуждании ранее\n",
        "# Причем удобно не ставить там метку того, была ли посещена вершина в текущем блуждании.\n",
        "# Вместо этого можно хранить номер последней итерации, на которой была посещена вершина, и сравниваем его с текущим.\n",
        "\n",
        "import random\n",
        "\n",
        "def hit_distance(graph, query, time=10):\n",
        "    # инициализация статистик\n",
        "    hit_dist = [0] * nodes  # искомые расстояния\n",
        "    hit_times = [0] * nodes  # количество раз, когда вершина была достигнута в блуждании\n",
        "    used = [0] * nodes  # последняя итерация, на которой вершина была достигнута в блуждании\n",
        "    samples = nodes // time  # количество блужданий\n",
        "\n",
        "    ### BEGIN SOLUTION\n",
        "\n",
        "    ### END SOLUTION\n",
        "\n",
        "    return hit_dist"
      ],
      "execution_count": null,
      "outputs": []
    },
    {
      "cell_type": "code",
      "source": [
        "#####################################"
      ],
      "metadata": {
        "id": "kO-LwZAWZYvr"
      },
      "execution_count": null,
      "outputs": []
    },
    {
      "cell_type": "code",
      "source": [
        "time=10\n",
        "query=422\n",
        "\n",
        "hit_dist = [0] * nodes  # искомые расстояния\n",
        "hit_times = [0] * nodes  # количество раз, когда вершина была достигнута в блуждании\n",
        "used = [0] * nodes  # последняя итерация, на которой вершина была достигнута в блуждании\n",
        "samples = nodes // time  # количество блужданий\n",
        "\n",
        "node = query        # стартовая вершина\n",
        "for i in range(samples):\n",
        "    node = random.choice(graph[node])\n",
        "    used[node] = i\n",
        "    #print(f\"{i}: node={node}\")\n"
      ],
      "metadata": {
        "id": "o4QcsJ6TZesr"
      },
      "execution_count": 21,
      "outputs": []
    },
    {
      "cell_type": "code",
      "source": [
        "samples"
      ],
      "metadata": {
        "id": "rFul8OI0Z93V",
        "outputId": "3be1d5f4-56b3-49d9-efe4-ea44ff2e4b9c",
        "colab": {
          "base_uri": "https://localhost:8080/"
        }
      },
      "execution_count": 19,
      "outputs": [
        {
          "output_type": "execute_result",
          "data": {
            "text/plain": [
              "26211"
            ]
          },
          "metadata": {},
          "execution_count": 19
        }
      ]
    },
    {
      "cell_type": "code",
      "source": [
        "#####################################"
      ],
      "metadata": {
        "id": "Vyd6xsHiZZfy"
      },
      "execution_count": null,
      "outputs": []
    },
    {
      "cell_type": "markdown",
      "metadata": {
        "id": "7C-e4jdmC9pt"
      },
      "source": [
        "Проверьте ваше решение."
      ]
    },
    {
      "cell_type": "code",
      "metadata": {
        "nbgrader": {
          "grade": true,
          "grade_id": "cell-178a9470c876f360",
          "locked": true,
          "points": 4,
          "schema_version": 3,
          "solution": false,
          "task": false
        },
        "id": "j9CXiVYUGhAb"
      },
      "source": [
        "hd = hit_distance(graph, query)\n",
        "hd_check = check_answer(hd, samp)\n",
        "print(\"Совпадений с удалёнными рёбрами:\", hd_check)\n",
        "print(\"Если ответ 2 -- не исключили query и соседей, если 0 -- исключили неправильно\")\n",
        "assert hd_check >= 8\n",
        "print(\"Сработало!\")"
      ],
      "execution_count": null,
      "outputs": []
    },
    {
      "cell_type": "code",
      "metadata": {
        "id": "uiQnMjt7DBEo"
      },
      "source": [
        "test_hd = hit_distance(test_graph, test_query)\n",
        "hd_check = check_answer(test_hd, test_samp)\n",
        "print(\"Совпадений с удалёнными рёбрами:\", hd_check)\n",
        "assert hd_check >= 9\n",
        "print(\"Сработало!\")"
      ],
      "execution_count": null,
      "outputs": []
    },
    {
      "cell_type": "code",
      "metadata": {
        "nbgrader": {
          "grade": false,
          "grade_id": "cell-259a2f6553144201",
          "locked": false,
          "schema_version": 3,
          "solution": true,
          "task": false
        },
        "id": "Mzm1itdHGhAc"
      },
      "source": [
        "# В этом блоке необходимо реализовать подсчет усеченных моментов достижения в вершину.\n",
        "# Допишите функцию и постобработку (какие вершины точно не должны попасть в ответ?)\n",
        "# В нашем тестовом графе нет петель, но если вы захотите потестировать свое решение на других графах,\n",
        "# обратите внимание, что петля (ребро, идущее из вершины в саму себя) повышает степень вершины на 2\n",
        "\n",
        "# P.S.: не рекомендуется делать функцию рекурсивной, потому что так вы будете\n",
        "# вычислять заново одно и то же значение несколько раз. Подумайте, зачем вам дан\n",
        "# массив tht и почему функция организована именно так.\n",
        "\n",
        "def truncated_hitting_time(graph, query, time=10):\n",
        "    tht = [[0 for _ in range(nodes)] for _ in range(time + 1)]\n",
        "    for t in range(1, time + 1):\n",
        "        for vert in range(nodes):\n",
        "            if vert == query:\n",
        "                continue\n",
        "            if graph[vert]:\n",
        "                ### BEGIN SOLUTION\n",
        "\n",
        "                ### END SOLUTION\n",
        "            tht[t][vert] += 1\n",
        "\n",
        "    ### BEGIN SOLUTION\n",
        "\n",
        "    ### END SOLUTION\n",
        "    return tht[time]"
      ],
      "execution_count": null,
      "outputs": []
    },
    {
      "cell_type": "markdown",
      "metadata": {
        "id": "w4oGs3JuDFO-"
      },
      "source": [
        "Проверьте ваше решение."
      ]
    },
    {
      "cell_type": "code",
      "metadata": {
        "nbgrader": {
          "grade": true,
          "grade_id": "cell-470da6efb0732169",
          "locked": true,
          "points": 3,
          "schema_version": 3,
          "solution": false,
          "task": false
        },
        "id": "NxoiNTFxGhAc"
      },
      "source": [
        "tht = truncated_hitting_time(graph, query)\n",
        "ind_sort = index_sorted(tht)[:len(samp)]\n",
        "chck_ans = check_answer(tht, samp)\n",
        "print(\"Ваши ответы:\")\n",
        "print(\"ТОП по hitting-time:\", ind_sort)\n",
        "print(\"Совпадений с удалёнными рёбрами:\", chck_ans)\n",
        "print(\"Если 0, то, возможно, вы неправильно обработали query и соседей\")\n",
        "print(\"Результаты тестов:\")\n",
        "assert ind_sort == [164896, 254021, 110999, 212872, 20673, 172699, 3060, 104718, 205186, 194186, 35561, 36377, 829, 103988, 157171, 198304, 113283, 21150, 244935, 186662]\n",
        "assert chck_ans == 11\n",
        "print(\"Сработало!\")"
      ],
      "execution_count": null,
      "outputs": []
    },
    {
      "cell_type": "code",
      "metadata": {
        "id": "zURSS_EmDS59"
      },
      "source": [
        "test_tht = truncated_hitting_time(test_graph, test_query)\n",
        "ind_sort = index_sorted(test_tht)[:len(test_samp)]\n",
        "print(\"Ваши ответы:\")\n",
        "print(\"ТОП по hitting-time:\", ind_sort)\n",
        "print(\"Результаты тестов:\")\n",
        "assert ind_sort == [185446, 134665, 134666, 216721, 222821, 125972, 6658, 169969, 26295, 162514, 99789, 202525, 40361, 217286, 183713, 160748, 163128, 64355, 196341, 47705]\n",
        "print(\"Сработало!\")"
      ],
      "execution_count": null,
      "outputs": []
    },
    {
      "cell_type": "code",
      "metadata": {
        "nbgrader": {
          "grade": false,
          "grade_id": "cell-02d17223704bcedd",
          "locked": false,
          "schema_version": 3,
          "solution": true,
          "task": false
        },
        "id": "EVhvdZKXGhAd"
      },
      "source": [
        "# В этом блоке требуется реализовать функцию, которая принимает две разные статистики и выдает новую,\n",
        "# являющуюся суммой переданных\n",
        "\n",
        "def sum_of_stats(first, second):\n",
        "    ### BEGIN SOLUTION\n",
        "\n",
        "    ### END SOLUTION"
      ],
      "execution_count": null,
      "outputs": []
    },
    {
      "cell_type": "markdown",
      "metadata": {
        "id": "2Dz9piAcCJkI"
      },
      "source": [
        "Проверьте ваше решение."
      ]
    },
    {
      "cell_type": "code",
      "metadata": {
        "id": "hRdy3hNqCC_R"
      },
      "source": [
        "assert check_answer(sum_of_stats(hd, tht), samp) >= 9"
      ],
      "execution_count": null,
      "outputs": []
    },
    {
      "cell_type": "code",
      "metadata": {
        "id": "xRqA8PdXB_a2"
      },
      "source": [
        "assert check_answer(sum_of_stats(test_hd, test_tht), test_samp) >= 9"
      ],
      "execution_count": null,
      "outputs": []
    }
  ]
}