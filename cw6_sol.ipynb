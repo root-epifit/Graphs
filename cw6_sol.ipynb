{
  "nbformat": 4,
  "nbformat_minor": 0,
  "metadata": {
    "colab": {
      "provenance": []
    },
    "kernelspec": {
      "display_name": "Python 3",
      "language": "python",
      "name": "python3"
    },
    "language_info": {
      "codemirror_mode": {
        "name": "ipython",
        "version": 3
      },
      "file_extension": ".py",
      "mimetype": "text/x-python",
      "name": "python",
      "nbconvert_exporter": "python",
      "pygments_lexer": "ipython3",
      "version": "3.7.6"
    }
  },
  "cells": [
    {
      "cell_type": "markdown",
      "metadata": {
        "id": "Ok3nh4_bzua7"
      },
      "source": [
        "# Обходы графов\n",
        "\n",
        "В этом ноутбуке мы посмотрим на примеры работы с обходами в графах"
      ]
    },
    {
      "cell_type": "code",
      "metadata": {
        "id": "7LmnanLMzua8"
      },
      "source": [
        "# Задаем граф\n",
        "\n",
        "import networkx as nx\n",
        "\n",
        "G = nx.DiGraph()\n",
        "\n",
        "G.add_nodes_from(['A','B','C','D','E','F'])\n",
        "G.add_edges_from([('A','B'), \n",
        "                      ('B','C'), ('B','D'), ('B','E'), \n",
        "                      ('C','A'), \n",
        "                      ('D','A'), ('D','C'), ('D','E'), \n",
        "                      ('F','E')])\n",
        "\n",
        "\n",
        "nodes=list(G.nodes())\n",
        "edges=list(G.edges())\n",
        "\n",
        "print(\"Список вершин:\",nodes)\n",
        "print(\"Список ребер:\",edges)\n",
        "\n",
        "num_nodes = G.number_of_nodes()\n",
        "num_edges = G.number_of_edges()\n",
        "\n",
        "print(\"Число вершин:\",num_nodes)\n",
        "print(\"Число ребер:\",num_edges)"
      ],
      "execution_count": null,
      "outputs": []
    },
    {
      "cell_type": "code",
      "metadata": {
        "id": "mwG54xyMzubC"
      },
      "source": [
        "# Рисуем граф\n",
        "\n",
        "import matplotlib.pyplot as plt\n",
        "\n",
        "pos = {'A': (1, 1.5), 'B': (4, 0), 'C': (5, 2), 'D': (2.9, 2.2), 'E': (6, 0.5), 'F': (7.5, 1.5)}\n",
        "\n",
        "def draw_G(G, axis=False, pos=None):\n",
        "    options = {\n",
        "        \"font_size\": 20,\n",
        "        \"node_size\": 1500,\n",
        "        \"node_color\": \"white\",\n",
        "        \"edgecolors\": \"black\",\n",
        "        \"linewidths\": 3,\n",
        "        \"width\": 3,\n",
        "    }\n",
        "\n",
        "    if axis:\n",
        "        plt.axis([0, 8.5, -0.5, 2.7])\n",
        "    nx.draw_networkx(G, pos, **options)\n",
        "    plt.show()\n",
        "    \n",
        "draw_G(G, True, pos)"
      ],
      "execution_count": null,
      "outputs": []
    },
    {
      "cell_type": "code",
      "metadata": {
        "id": "i6X1nVk7BUb-"
      },
      "source": [
        "# Реализуем поиск в глубину без глобальных переменных\n",
        "\n",
        "pre={}\n",
        "post={}\n",
        "\n",
        "def Previsit(v, pre, clock):\n",
        "    pre[v]=clock\n",
        "    clock+=1\n",
        "    return clock\n",
        "\n",
        "def Postvisit(v, post, clock):\n",
        "    post[v]=clock\n",
        "    clock+=1\n",
        "    return clock\n",
        "\n",
        "visited=dict()\n",
        "for v in G:\n",
        "    visited[v]=False\n",
        "\n",
        "def Explore(v,graph,pre,post,clock,visited):\n",
        "    visited[v]=True\n",
        "    clock = Previsit(v,pre,clock)\n",
        "    for u in graph[v]:\n",
        "        if not visited[u]:\n",
        "            clock = Explore(u,graph,pre,post,clock,visited)\n",
        "    clock = Postvisit(v,post,clock)\n",
        "    return clock\n",
        "            \n",
        "def dfs(graph,pre,post,visited):\n",
        "    clock=0\n",
        "    for v in graph:\n",
        "        if not visited[v]:\n",
        "            clock = Explore(v,graph,pre,post,clock,visited)\n",
        "\n",
        "dfs(G,pre,post,visited)\n",
        "\n",
        "print(\"Pre: \",sorted(pre.items()))\n",
        "print(\"Post:\",sorted(post.items()))"
      ],
      "execution_count": null,
      "outputs": []
    },
    {
      "cell_type": "code",
      "metadata": {
        "id": "9CDlwB-wBkGK"
      },
      "source": [
        "# Находим компоненты сильной связности с помощью встроенной функции\n",
        "\n",
        "list(nx.strongly_connected_components(G))"
      ],
      "execution_count": null,
      "outputs": []
    },
    {
      "cell_type": "code",
      "metadata": {
        "id": "M_NBrPJYBnOq"
      },
      "source": [
        "# Находим компоненты сильной связности\n",
        "\n",
        "G_r = G.reverse(copy=True)\n",
        "\n",
        "\n",
        "draw_G(G, True, pos)\n",
        "draw_G(G_r, True, pos)\n",
        "\n",
        "# Запускаем поиск в глубину для развернутого графа\n",
        "\n",
        "pre_r={}\n",
        "post_r={}\n",
        "visited_r={}\n",
        "for v in G_r:\n",
        "    visited_r[v]=False\n",
        "dfs(G_r,pre_r,post_r,visited_r)\n",
        "\n",
        "print(\"Pre для обратного графа:\\t\",dict(sorted(pre_r.items())))\n",
        "print(\"Post для обратного графа:\\t\",dict(sorted(post_r.items())))\n",
        "print()\n",
        "\n",
        "visited={}\n",
        "for v in G:\n",
        "    visited[v]=False\n",
        "\n",
        "# Запускаем обход компонент связности\n",
        "while post_r:\n",
        "    print(\"Очередная компонента состоит из:\",end=\" \")\n",
        "    pre={}\n",
        "    post={}\n",
        "\n",
        "    current_v = max(post_r, key=post_r.get)\n",
        "    Explore(current_v, G, pre, post, 0, visited)\n",
        "    \n",
        "    for v, k in visited.items():\n",
        "        if k and v in post_r:\n",
        "            print(v,end=\" \")\n",
        "            del post_r[v]\n",
        "    #print(visited)\n",
        "    print()"
      ],
      "execution_count": null,
      "outputs": []
    },
    {
      "cell_type": "code",
      "metadata": {
        "id": "tEbUb9ioE3lX"
      },
      "source": [
        "# Задаем неориентированный граф\n",
        "\n",
        "G = nx.Graph()\n",
        "\n",
        "G.add_nodes_from(['A', 'B', 'C', 'D', 'E', 'F'])\n",
        "\n",
        "G.add_edges_from([('A','B'), ('B','C'), ('C','A'), ('B','D'), ('F','E'),('D','E')])\n",
        "\n",
        "\n",
        "\n",
        "draw_G(G, True, pos)"
      ],
      "execution_count": null,
      "outputs": []
    },
    {
      "cell_type": "code",
      "metadata": {
        "id": "48lj_Z4257QN"
      },
      "source": [
        "# В этом блоке нужно реализовать удаление вершины из неориентированного графа с сохранением связности\n",
        "\n",
        "draw_G(G, True, pos)\n",
        "\n",
        "clock = 0\n",
        "\n",
        "pre={}\n",
        "post={}\n",
        "\n",
        "def Previsit(v):\n",
        "    global clock\n",
        "    pre[v]=clock\n",
        "    clock+=1\n",
        "\n",
        "def Postvisit(v):\n",
        "    global clock\n",
        "    post[v]=clock\n",
        "    clock+=1\n",
        "\n",
        "visited={}\n",
        "for v in G:\n",
        "    visited[v]=False\n",
        "\n",
        "def Explore(v):\n",
        "    visited[v]=True\n",
        "    Previsit(v)\n",
        "    for u in G[v]:\n",
        "        if not visited[u]:\n",
        "            Explore(u)\n",
        "    Postvisit(v)\n",
        "            \n",
        "def dfs():\n",
        "    for v in G:\n",
        "        if not visited[v]:\n",
        "            Explore(v)\n",
        "            \n",
        "\n",
        "# Функция должна возвращать вершину графа, удаление которой не нарушит связность\n",
        "def vertex_deletion():\n",
        "    dfs()\n",
        "    vertex = max(pre, key=pre.get)\n",
        "    return vertex\n",
        "\n",
        "print(vertex_deletion())\n",
        "print(pre)"
      ],
      "execution_count": null,
      "outputs": []
    },
    {
      "cell_type": "code",
      "metadata": {
        "id": "6sbklXXU0OWj"
      },
      "source": [
        "# Запускаем поиск в ширину\n",
        "\n",
        "from collections import deque\n",
        "\n",
        "def bfs(G, v):\n",
        "    dist = {v: 0}\n",
        "    queue = deque([v])\n",
        "    \n",
        "    while queue:\n",
        "        s = queue.popleft()\n",
        "        for u in G[s]:\n",
        "            if u not in dist:\n",
        "                queue.append(u)\n",
        "                dist[u] = dist[s] + 1\n",
        "    return dist\n",
        "\n",
        "bfs(G,'A')"
      ],
      "execution_count": null,
      "outputs": []
    },
    {
      "cell_type": "code",
      "metadata": {
        "id": "kyUq7vzz27Va"
      },
      "source": [
        "# В этом блоке нужно проверить есть ли в данном графе цикл длины не больше 4, проходящий через данную вершину\n",
        "\n",
        "def test_for_cycle(G, v):\n",
        "    \"\"\"\n",
        "        Проверяет, не проходит ли\n",
        "        * через вершину v\n",
        "        * графа G\n",
        "        * цикл длины не больше 4\n",
        "    \"\"\"\n",
        "    # Инициализация обычного bfs\n",
        "    dist = { v: 0 }\n",
        "    # Здесь полезно хранить не только вершину, но и предка\n",
        "    # При этом для v удобно предка положить чему-то, что не будет мешать\n",
        "    queue = deque([ (v, v) ])\n",
        "    # deep --- максимальная глубина,\n",
        "    # на которой может находиться вершина цикла\n",
        "    deep = 2\n",
        "\n",
        "    while queue:\n",
        "        s, p = queue.popleft()\n",
        "        for u in G[s]:\n",
        "            if u == p: continue\n",
        "            # Глубже deep спускаться бессмысленно\n",
        "            if u not in dist and dist[s] < deep:\n",
        "                queue.append((u, s))\n",
        "                dist[u] = dist[s] + 1\n",
        "            # Если нашли цикл, проверим длину\n",
        "            elif u in dist and dist[s] + dist[u] <= 2*deep-1:\n",
        "                return True\n",
        "    return False\n",
        "\n",
        "#G.remove_edge('C','B')\n",
        "draw_G(G, True, pos)\n",
        "print(test_for_cycle(G,'A'))\n",
        "#G.add_edge('C','B')\n"
      ],
      "execution_count": null,
      "outputs": []
    },
    {
      "cell_type": "code",
      "metadata": {
        "id": "pNTza0RS4lo4"
      },
      "source": [
        "H = nx.lollipop_graph(5, 5)\n",
        "\n",
        "draw_G(H)"
      ],
      "execution_count": null,
      "outputs": []
    },
    {
      "cell_type": "code",
      "metadata": {
        "id": "0bnTWF-05Dcp"
      },
      "source": [
        "print(test_for_cycle(H,0))\n",
        "\n",
        "print(test_for_cycle(H,5))\n",
        "print(test_for_cycle(H,9))\n"
      ],
      "execution_count": null,
      "outputs": []
    }
  ]
}