{
  "nbformat": 4,
  "nbformat_minor": 0,
  "metadata": {
    "colab": {
      "name": "cw4_sol.ipynb",
      "provenance": []
    },
    "kernelspec": {
      "display_name": "Python 3",
      "language": "python",
      "name": "python3"
    },
    "language_info": {
      "codemirror_mode": {
        "name": "ipython",
        "version": 3
      },
      "file_extension": ".py",
      "mimetype": "text/x-python",
      "name": "python",
      "nbconvert_exporter": "python",
      "pygments_lexer": "ipython3",
      "version": "3.7.6"
    }
  },
  "cells": [
    {
      "cell_type": "markdown",
      "metadata": {
        "id": "Ok3nh4_bzua7"
      },
      "source": [
        "# Ориентированные графы\n",
        "\n",
        "В этом ноутбуке мы посмотрим на примеры работы с ориентированными графами"
      ]
    },
    {
      "cell_type": "code",
      "metadata": {
        "id": "7LmnanLMzua8"
      },
      "source": [
        "# Задаем граф\n",
        "\n",
        "import networkx as nx\n",
        "\n",
        "G = nx.DiGraph()\n",
        "\n",
        "G.add_edge('A','B')\n",
        "G.add_edges_from([('B','C'), ('C','A'), ('C','D'), ('C','E'),('D','E'),('F','C')])\n",
        "\n",
        "\n",
        "nodes=list(G.nodes())\n",
        "edges=list(G.edges())\n",
        "\n",
        "print(\"Список вершин:\",nodes)\n",
        "print(\"Список ребер:\",edges)\n",
        "\n",
        "num_nodes = G.number_of_nodes()\n",
        "num_edges = G.number_of_edges()\n",
        "\n",
        "print(\"Число вершин:\",num_nodes)\n",
        "print(\"Число ребер:\",num_edges)"
      ],
      "execution_count": null,
      "outputs": []
    },
    {
      "cell_type": "code",
      "metadata": {
        "id": "mwG54xyMzubC"
      },
      "source": [
        "# Рисуем граф\n",
        "\n",
        "import matplotlib.pyplot as plt\n",
        "\n",
        "pos = {'A': (1, 1.5), 'B': (4, 0), 'C': (5, 2), 'D': (2.9, 2.2), 'E': (6, 0.5), 'F': (7.5, 1.5)}\n",
        "\n",
        "def draw_G(G, axis=False, pos=None):\n",
        "    options = {\n",
        "        \"font_size\": 20,\n",
        "        \"node_size\": 1500,\n",
        "        \"node_color\": \"white\",\n",
        "        \"edgecolors\": \"black\",\n",
        "        \"linewidths\": 3,\n",
        "        \"width\": 3,\n",
        "    }\n",
        "\n",
        "    if axis:\n",
        "        plt.axis([0, 8.5, -0.5, 2.7])\n",
        "    nx.draw_networkx(G, pos, **options)\n",
        "    plt.show()\n",
        "    \n",
        "draw_G(G, True, pos)"
      ],
      "execution_count": null,
      "outputs": []
    },
    {
      "cell_type": "code",
      "metadata": {
        "id": "fc2Rh4wwzubE"
      },
      "source": [
        "# Ищем степень вершины\n",
        "\n",
        "print(\"Степень вершины:\",G.degree('C'))\n",
        "print(\"Входная степень вершины:\",G.in_degree('C'))\n",
        "print(\"Исходящая степень вершины:\",G.out_degree('C'))"
      ],
      "execution_count": null,
      "outputs": []
    },
    {
      "cell_type": "code",
      "metadata": {
        "id": "-tIv37BJzubH"
      },
      "source": [
        "# Ищем соседей\n",
        "\n",
        "print(\"Что выдает G[v]:\",list(G['C']))\n",
        "\n",
        "print(\"А вот соседи по входящим ребрам:\",list(G.pred['C']))"
      ],
      "execution_count": null,
      "outputs": []
    },
    {
      "cell_type": "code",
      "metadata": {
        "id": "aFsCc7YazubJ"
      },
      "source": [
        "# Проверяем достижимость\n",
        "\n",
        "nx.has_path(G,'F','A')"
      ],
      "execution_count": null,
      "outputs": []
    },
    {
      "cell_type": "code",
      "metadata": {
        "id": "d4JO1G8zzubL"
      },
      "source": [
        "# Проверяем связность\n",
        "\n",
        "G.add_edges_from([('E','F')])\n",
        "\n",
        "draw_G(G, True, pos)\n",
        "\n",
        "print(nx.is_strongly_connected(G))\n",
        "\n",
        "G.remove_edges_from([('E','F')])"
      ],
      "execution_count": null,
      "outputs": []
    },
    {
      "cell_type": "markdown",
      "metadata": {
        "id": "4C2v6YJuWYop"
      },
      "source": [
        "Ниже мы реализуем поиск в данном ориентированном графе либо стока, либо цикла.\n",
        "\n",
        "В целом, для этого достаточно начать ходить по графу из любой вершины до тех пор, пока мы либо не придем в сток, либо не посетим одну и ту же вершину дважды. Но для такого решения нам нужно хранить пройденные вершины, что может потребовать памяти линейной по сравнению с размером графа.\n",
        "\n",
        "Мы построим решение эффективнее с точки зрения памяти, в нем нам потребуется память, линейная по длине цикла, который мы найдем. \n",
        "\n",
        "Сначала мы отдельно реализуем проверку вершины на то, является ли она стоком. \n",
        "\n",
        "Затем мы реализуем функцию, которая находит вершину, которая либо является стоком, либо лежит на цикле. Для этого достаточно для каждой вершины выбрать фиксированное исходящее ребро и переходить по этим ребрам n раз, где n — число вершин в графе.\n",
        "\n",
        "Наконец, затем мы реализуем функцию, которая находит в графе либо сток, либо цикл. Для этого воспользуемся предыдущей функцией, и если она возвращает вершину на цикле, то мы проходим по циклу пока не попадем в начальную вершину второй раз, параллельно запоминая вершины цикла."
      ]
    },
    {
      "cell_type": "code",
      "source": [
        "# В этом блоке собраны команды, которые могут пригодиться\n",
        "\n",
        "# Команда len возвращает число объектов\n",
        "a= [0,0]\n",
        "\n",
        "print(f'Число элементов в a: {len(a)}')\n",
        "\n",
        "print(f'Число вершин в G: {len(G)}')\n",
        "\n",
        "print(\"Число соседей вершины A по исходящим ребрам:\",len(G['A']))\n",
        "\n",
        "# Команда append добавляет элемент в список справа\n",
        "a = [0,0]\n",
        "a.append(1)\n",
        "print(f'Список a после добавления: {a}')\n",
        "\n",
        "# Команда list преобразует итератор в список\n",
        "a = 'python'\n",
        "print(f'Список из элементов a: {list(a)}')\n",
        "print(f'Список вершин G: {list(G.nodes())}')\n",
        "print(\"Список соседей вершины A по исходящим ребрам:\",list(G['A']))\n"
      ],
      "metadata": {
        "id": "VAxcqrLD-VTt"
      },
      "execution_count": null,
      "outputs": []
    },
    {
      "cell_type": "code",
      "metadata": {
        "id": "4zj2-QATzubO"
      },
      "source": [
        "# В этом блоке нужно реализовать проверку вершины на то, является ли она стоком\n",
        "\n",
        "\n",
        "def sink(G, v):\n",
        "    # Добавьте здесь ваше решение\n",
        "    return len(G[v]) == 0\n",
        "\n",
        "v = 'C'\n",
        "# v = 'E'\n",
        "print(f'Вершина {v} является стоком: {sink(G, v)}')\n",
        "\n"
      ],
      "execution_count": null,
      "outputs": []
    },
    {
      "cell_type": "code",
      "metadata": {
        "id": "Oaz11KuCZ0lp"
      },
      "source": [
        "# В этом блоке нужно реализовать функцию, которая по данному графу и данной вершине находит вершину, достижимую из данной, либо лежащую на цикле, либо являющуюся стоком\n",
        "\n",
        "def find_cycle_or_sink(G, v):\n",
        "    # Добавьте здесь ваше решение\n",
        "    for _ in range(G.number_of_nodes()):\n",
        "        if sink(G, v):\n",
        "            return v\n",
        "        v = list(G[v])[0]\n",
        "    return v\n",
        "\n",
        "print(find_cycle_or_sink(G, 'F'))\n",
        "\n",
        "draw_G(G, True, pos)"
      ],
      "execution_count": null,
      "outputs": []
    },
    {
      "cell_type": "code",
      "metadata": {
        "id": "bmdlcbtTa8Wb"
      },
      "source": [
        "# В этом блоке нужно реализовать функцию, которая по данному графу и данной вершине, лежащей на цикле, выдает этот цикл\n",
        "\n",
        "def build_cycle(G, v):\n",
        "    cycle = [ v ]\n",
        "    # Добавьте здесь ваше решение\n",
        "    while list(G[v])[0] != cycle[0]:\n",
        "        u = list(G[v])[0]\n",
        "        cycle.append(u)\n",
        "        v = u\n",
        "        \n",
        "    return cycle\n",
        "\n",
        "v = find_cycle_or_sink(G, 'C')\n",
        "if sink(G, v):\n",
        "    print(f'Сток: {v}')\n",
        "else:\n",
        "    print(f'Цикл: {build_cycle(G, v)}')"
      ],
      "execution_count": null,
      "outputs": []
    }
  ]
}