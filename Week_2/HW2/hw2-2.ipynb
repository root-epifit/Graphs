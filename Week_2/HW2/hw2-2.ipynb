{
  "nbformat": 4,
  "nbformat_minor": 0,
  "metadata": {
    "colab": {
      "provenance": []
    },
    "kernelspec": {
      "display_name": "Python 3",
      "language": "python",
      "name": "python3"
    },
    "language_info": {
      "codemirror_mode": {
        "name": "ipython",
        "version": 3
      },
      "file_extension": ".py",
      "mimetype": "text/x-python",
      "name": "python",
      "nbconvert_exporter": "python",
      "pygments_lexer": "ipython3",
      "version": "3.7.6"
    }
  },
  "cells": [
    {
      "cell_type": "markdown",
      "metadata": {
        "id": "Ok3nh4_bzua7"
      },
      "source": [
        "# Домашнее задание 2, задача 2. Поиск стока или треугольника\n",
        "\n",
        "В этом ноутбуке требуется в данном *турнире* (ориентированном графе, в котором между каждыми двумя вершинами есть ребро ровно в одну сторону) найти либо сток, либо треугольник (ориентированный цикл на трех вершинах). Для этого можно воспользоваться алгоритмом с занятия, в котором находится сток или цикл. После этого можно найти цикл длины 3.\n",
        "\n",
        "\n",
        "---\n",
        "**Правила сдачи.** Это вторая из двух задач домашнего задания 2. Каждая задача оценивается в 5 баллов.\n",
        "\n",
        "Дедлайн второго домашнего задания --- **22 февраля в 19:00**. Решения нужно отправить по адресу pygraphs.sber@gmail.com. Решения будут проверены до 19:00 23 февраля. \n",
        "\n",
        "Также можно отправить решения до **19:00 20 февраля**. Тогда они будут проверены до 19:00 21 февраля и в случае наличия ошибок можно будет успеть их исправить до основного дедлайна.\n",
        "\n",
        "---"
      ]
    },
    {
      "cell_type": "code",
      "metadata": {
        "id": "mwG54xyMzubC"
      },
      "source": [
        "# Добавляем библиотеки, определяем функцию для рисования графа\n",
        "\n",
        "import networkx as nx\n",
        "import matplotlib.pyplot as plt\n",
        "\n",
        "pos = {'A': (1, 1.5), 'B': (4, 0), 'C': (5, 2), 'D': (2.9, 2.2), 'E': (6, 0.5), 'F': (7.5, 1.5)}\n",
        "\n",
        "def draw_G(G, axis=False, pos=None):\n",
        "    options = {\n",
        "        \"font_size\": 20,\n",
        "        \"node_size\": 1000,\n",
        "        \"node_color\": \"white\",\n",
        "        \"edgecolors\": \"black\",\n",
        "        \"linewidths\": 3,\n",
        "        \"width\": 2,\n",
        "    }\n",
        "\n",
        "    if axis:\n",
        "        plt.axis([0, 8.5, -0.5, 2.7])\n",
        "    nx.draw_networkx(G, pos, **options)\n",
        "    plt.show()\n",
        "    \n"
      ],
      "execution_count": null,
      "outputs": []
    },
    {
      "cell_type": "code",
      "metadata": {
        "id": "4zj2-QATzubO"
      },
      "source": [
        "# В этом блоке находим либо сток, либо цикл, это было реализовано на занятии\n",
        "\n",
        "def sink(G, v):\n",
        "    return len(G[v]) == 0\n",
        "\n",
        "\n",
        "def find_cycle_or_sink(G, v):\n",
        "    for _ in range(G.number_of_nodes()):\n",
        "        if sink(G, v):\n",
        "            return v\n",
        "        v = list(G[v])[0]\n",
        "    return v\n",
        "\n",
        "def build_cycle(G, v):\n",
        "    cycle = [ v ]\n",
        "    while list(G[v])[0] != cycle[0]:\n",
        "        u = list(G[v])[0]\n",
        "        cycle.append(u)\n",
        "        v = u\n",
        "    return cycle\n"
      ],
      "execution_count": null,
      "outputs": []
    },
    {
      "cell_type": "code",
      "metadata": {
        "id": "hPNdjAgwn6RX"
      },
      "source": [
        "# В этом блоке нужно реализовать поиск стока или треугольника\n",
        "\n",
        "# Здесь задается случайный турнир\n",
        "n = 10\n",
        "H = nx.algorithms.tournament.random_tournament(n)\n",
        "draw_G(H)\n",
        "\n",
        "# Здесь задается турнир, в котором почти является ациклическим, но ребро из стока в исток развернуто\n",
        "# Этот турнир может быть полезен для тестирования\n",
        "#H = nx.DiGraph()\n",
        "#H.add_nodes_from(range(10))\n",
        "#for j in H.nodes():\n",
        "#  for i in range(j):\n",
        "#    if (i, j) == (0, 9):\n",
        "#      H.add_edge(j,i)  \n",
        "#    else:\n",
        "#      H.add_edge(i,j)\n",
        "\n",
        "\n",
        "# В этой функции требуется реализовать поиск треугольника по данному циклу\n",
        "def trim_cycle(G, cycle):\n",
        "    # Добавьте здесь ваше решение\n",
        "\n",
        "\n",
        "# В этой части тестируется решение\n",
        "v = find_cycle_or_sink(H, n - 1)\n",
        "if sink(H, v):\n",
        "    print(f'Сток: {v}')\n",
        "else:\n",
        "    cycle = build_cycle(H, v)\n",
        "    print(f'Цикл: {cycle}')\n",
        "    print(f'Треугольник: {trim_cycle(H, cycle)}')"
      ],
      "execution_count": null,
      "outputs": []
    }
  ]
}