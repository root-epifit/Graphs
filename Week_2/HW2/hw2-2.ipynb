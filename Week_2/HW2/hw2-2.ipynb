{
  "nbformat": 4,
  "nbformat_minor": 0,
  "metadata": {
    "colab": {
      "provenance": [],
      "toc_visible": true,
      "include_colab_link": true
    },
    "kernelspec": {
      "display_name": "Python 3",
      "language": "python",
      "name": "python3"
    },
    "language_info": {
      "codemirror_mode": {
        "name": "ipython",
        "version": 3
      },
      "file_extension": ".py",
      "mimetype": "text/x-python",
      "name": "python",
      "nbconvert_exporter": "python",
      "pygments_lexer": "ipython3",
      "version": "3.7.6"
    }
  },
  "cells": [
    {
      "cell_type": "markdown",
      "metadata": {
        "id": "view-in-github",
        "colab_type": "text"
      },
      "source": [
        "<a href=\"https://colab.research.google.com/github/root-epifit/Graphs/blob/main/Week_2/HW2/hw2-2.ipynb\" target=\"_parent\"><img src=\"https://colab.research.google.com/assets/colab-badge.svg\" alt=\"Open In Colab\"/></a>"
      ]
    },
    {
      "cell_type": "markdown",
      "metadata": {
        "id": "Ok3nh4_bzua7"
      },
      "source": [
        "# Домашнее задание 2, задача 2. Поиск стока или треугольника\n",
        "\n",
        "В этом ноутбуке требуется в данном *турнире* (ориентированном графе, в котором между каждыми двумя вершинами есть ребро ровно в одну сторону) найти либо сток, либо треугольник (ориентированный цикл на трех вершинах). Для этого можно воспользоваться алгоритмом с занятия, в котором находится сток или цикл. После этого можно найти цикл длины 3.\n",
        "\n",
        "\n",
        "---\n",
        "**Правила сдачи.** Это вторая из двух задач домашнего задания 2. Каждая задача оценивается в 5 баллов.\n",
        "\n",
        "Дедлайн второго домашнего задания --- **22 февраля в 19:00**. Решения нужно отправить по адресу pygraphs.sber@gmail.com. Решения будут проверены до 19:00 23 февраля. \n",
        "\n",
        "Также можно отправить решения до **19:00 20 февраля**. Тогда они будут проверены до 19:00 21 февраля и в случае наличия ошибок можно будет успеть их исправить до основного дедлайна.\n",
        "\n",
        "---"
      ]
    },
    {
      "cell_type": "code",
      "metadata": {
        "id": "mwG54xyMzubC"
      },
      "source": [
        "# Добавляем библиотеки, определяем функцию для рисования графа\n",
        "\n",
        "import networkx as nx\n",
        "import matplotlib.pyplot as plt\n",
        "\n",
        "pos = {'A': (1, 1.5), 'B': (4, 0), 'C': (5, 2), 'D': (2.9, 2.2), 'E': (6, 0.5), 'F': (7.5, 1.5)}\n",
        "\n",
        "def draw_G(G, axis=False, pos=None):\n",
        "    options = {\n",
        "        \"font_size\": 20,\n",
        "        \"node_size\": 1000,\n",
        "        \"node_color\": \"white\",\n",
        "        \"edgecolors\": \"black\",\n",
        "        \"linewidths\": 3,\n",
        "        \"width\": 2,\n",
        "    }\n",
        "\n",
        "    if axis:\n",
        "        plt.axis([0, 8.5, -0.5, 2.7])\n",
        "    nx.draw_networkx(G, pos, **options)\n",
        "    plt.show()\n",
        "    \n"
      ],
      "execution_count": 3,
      "outputs": []
    },
    {
      "cell_type": "code",
      "metadata": {
        "id": "4zj2-QATzubO"
      },
      "source": [
        "# В этом блоке находим либо сток, либо цикл, это было реализовано на занятии\n",
        "\n",
        "def sink(G, v):\n",
        "    return len(G[v]) == 0\n",
        "\n",
        "\n",
        "def find_cycle_or_sink(G, v):\n",
        "    for _ in range(G.number_of_nodes()):\n",
        "        if sink(G, v):\n",
        "            return v\n",
        "        v = list(G[v])[0]\n",
        "    return v\n",
        "\n",
        "def build_cycle(G, v):\n",
        "    cycle = [ v ]\n",
        "    while list(G[v])[0] != cycle[0]:\n",
        "        u = list(G[v])[0]\n",
        "        cycle.append(u)\n",
        "        v = u\n",
        "    return cycle\n"
      ],
      "execution_count": 59,
      "outputs": []
    },
    {
      "cell_type": "code",
      "metadata": {
        "id": "hPNdjAgwn6RX",
        "outputId": "c3084d94-2e21-4cb0-e3b3-0876ff860443",
        "colab": {
          "base_uri": "https://localhost:8080/",
          "height": 283
        }
      },
      "source": [
        "# В этом блоке нужно реализовать поиск стока или треугольника\n",
        "\n",
        "# Здесь задается случайный турнир\n",
        "n = 7\n",
        "H = nx.algorithms.tournament.random_tournament(n)\n",
        "draw_G(H)\n",
        "\n",
        "# Здесь задается турнир, в котором почти является ациклическим, но ребро из стока в исток развернуто\n",
        "# Этот турнир может быть полезен для тестирования\n",
        "#H = nx.DiGraph()\n",
        "#H.add_nodes_from(range(10))\n",
        "#for j in H.nodes():\n",
        "#  for i in range(j):\n",
        "#    if (i, j) == (0, 9):\n",
        "#      H.add_edge(j,i)  \n",
        "#    else:\n",
        "#      H.add_edge(i,j)\n",
        "\n",
        "\n",
        "# В этой функции требуется реализовать поиск треугольника по данному циклу\n",
        "def trim_cycle(G, cycle):\n",
        "    # Добавьте здесь ваше решение\n",
        "    pass\n",
        "\n",
        "\n",
        "# В этой части тестируется решение\n",
        "v = find_cycle_or_sink(H, n - 1)\n",
        "if sink(H, v):\n",
        "    print(f'Сток: {v}')\n",
        "else:\n",
        "    cycle = build_cycle(H, v)\n",
        "    print(f'Цикл: {cycle}')\n",
        "    print(f'Треугольник: {trim_cycle(H, cycle)}')\n"
      ],
      "execution_count": 163,
      "outputs": [
        {
          "output_type": "display_data",
          "data": {
            "text/plain": [
              "<Figure size 432x288 with 1 Axes>"
            ],
            "image/png": "[encoded data removed]"
          },
          "metadata": {}
        },
        {
          "output_type": "stream",
          "name": "stdout",
          "text": [
            "Цикл: [4, 6, 0, 1]\n",
            "Треугольник: None\n"
          ]
        }
      ]
    },
    {
      "cell_type": "code",
      "source": [
        "v = 0\n",
        "G=H"
      ],
      "metadata": {
        "id": "aJL0zCsGUAYu"
      },
      "execution_count": 86,
      "outputs": []
    },
    {
      "cell_type": "code",
      "source": [
        "for v in cycle:\n",
        "    print(f\"Trying v={v}\")\n",
        "    path=[]\n",
        "    path.append(v)\n",
        "    for _ in range(3):\n",
        "        next_nodes=[i for i in list(G[v]) if i in cycle]\n",
        "        #print(next_nodes)\n",
        "        for next_node in next_nodes:\n",
        "            v = next_node\n",
        "            path.append(v)\n",
        "            #print(v)   "
      ],
      "metadata": {
        "id": "vievc099VRri",
        "outputId": "ef52a4e4-a9e5-4222-cbfc-eab5e1457e94",
        "colab": {
          "base_uri": "https://localhost:8080/"
        }
      },
      "execution_count": 93,
      "outputs": [
        {
          "output_type": "stream",
          "name": "stdout",
          "text": [
            "Trying v=1\n",
            "Trying v=0\n",
            "Trying v=2\n",
            "Trying v=4\n"
          ]
        }
      ]
    },
    {
      "cell_type": "code",
      "source": [
        "draw_G(H)\n",
        "print(cycle)"
      ],
      "metadata": {
        "id": "6ZvQJmG7vL7L",
        "outputId": "b896da59-3a81-4cba-a185-40d17c9388e2",
        "colab": {
          "base_uri": "https://localhost:8080/",
          "height": 265
        }
      },
      "execution_count": 166,
      "outputs": [
        {
          "output_type": "display_data",
          "data": {
            "text/plain": [
              "<Figure size 432x288 with 1 Axes>"
            ],
            "image/png": "[encoded data removed]"
          },
          "metadata": {}
        },
        {
          "output_type": "stream",
          "name": "stdout",
          "text": [
            "[4, 6, 0, 1]\n"
          ]
        }
      ]
    },
    {
      "cell_type": "code",
      "source": [
        "\n",
        "def init():\n",
        "    global path, depth, visited, path_found\n",
        "    path = []\n",
        "    depth = 0\n",
        "    visited = {i:False for i in cycle}\n",
        "    path_found = False  \n",
        "\n",
        "def explore(G, u, v, cycle=cycle):\n",
        "    global depth, visited, path_found\n",
        "    depth = depth + 1\n",
        "    visited[v] = True\n",
        "    next_nodes=[i for i in list(G[v]) if i in cycle]\n",
        "    path_found = u in next_nodes\n",
        "    print(f\"on_enter: depth={depth}, u={u}, v={v}, next_nodes={next_nodes}, path={path}, path_found={path_found}\")\n",
        "    for v in next_nodes:\n",
        "        if not visited[v] and (not path_found) and (depth <= 2):\n",
        "            explore(G,u,v,cycle)\n",
        "    depth = depth -1\n",
        "    if path_found:\n",
        "        path.append(v)\n",
        "    print(f\"on_exit: depth={depth}, u={u}, v={v}, path_found={path_found}, path={path}\")\n",
        "    return path_found\n",
        "            \n",
        "print(cycle)\n",
        "for node in cycle[::-1]:\n",
        "    init()\n",
        "    explore(H, node, node, cycle)\n",
        "    if path_found: break\n",
        "path\n"
      ],
      "metadata": {
        "id": "4x0H_QZOcHNs",
        "outputId": "21fc8b60-1dd9-49a7-9b97-baadd0bac898",
        "colab": {
          "base_uri": "https://localhost:8080/"
        }
      },
      "execution_count": 170,
      "outputs": [
        {
          "output_type": "stream",
          "name": "stdout",
          "text": [
            "[4, 6, 0, 1]\n",
            "on_enter: depth=1, u=1, v=1, next_nodes=[4], path=[], path_found=False\n",
            "on_enter: depth=2, u=1, v=4, next_nodes=[6], path=[], path_found=False\n",
            "on_enter: depth=3, u=1, v=6, next_nodes=[0, 1], path=[], path_found=True\n",
            "on_exit: depth=2, u=1, v=1, path_found=True, path=[1]\n",
            "on_exit: depth=1, u=1, v=6, path_found=True, path=[1, 6]\n",
            "on_exit: depth=0, u=1, v=4, path_found=True, path=[1, 6, 4]\n"
          ]
        },
        {
          "output_type": "execute_result",
          "data": {
            "text/plain": [
              "[1, 6, 4]"
            ]
          },
          "metadata": {},
          "execution_count": 170
        }
      ]
    },
    {
      "cell_type": "code",
      "source": [
        "path[::-1]"
      ],
      "metadata": {
        "id": "U4Eaz8dvxibL",
        "outputId": "106a8782-cf32-4771-9510-e76eb94d116b",
        "colab": {
          "base_uri": "https://localhost:8080/"
        }
      },
      "execution_count": 137,
      "outputs": [
        {
          "output_type": "execute_result",
          "data": {
            "text/plain": [
              "[2, 4, 1]"
            ]
          },
          "metadata": {},
          "execution_count": 137
        }
      ]
    },
    {
      "cell_type": "code",
      "source": [
        "def find_cycle_or_sink(G, v):\n",
        "    print(f\"parameter v={v}\")\n",
        "    for _ in range(G.number_of_nodes()):\n",
        "        print( f\"Cycling: {_}\" )\n",
        "        if sink(G, v):\n",
        "            return v\n",
        "        print(list(G[v]))\n",
        "        v = list(G[v])[0]\n",
        "        print(v)\n",
        "    return v\n",
        "\n",
        "find_cycle_or_sink(H, 4)"
      ],
      "metadata": {
        "id": "LMvx_DzQRQPS",
        "outputId": "58abfde4-57ef-4ce4-ebaf-3487c8fbab99",
        "colab": {
          "base_uri": "https://localhost:8080/"
        }
      },
      "execution_count": 50,
      "outputs": [
        {
          "output_type": "stream",
          "name": "stdout",
          "text": [
            "parameter v=4\n",
            "Cycling: 0\n",
            "[1, 2, 3]\n",
            "1\n",
            "Cycling: 1\n",
            "[0, 2, 3]\n",
            "0\n",
            "Cycling: 2\n",
            "[4]\n",
            "4\n",
            "Cycling: 3\n",
            "[1, 2, 3]\n",
            "1\n",
            "Cycling: 4\n",
            "[0, 2, 3]\n",
            "0\n"
          ]
        },
        {
          "output_type": "execute_result",
          "data": {
            "text/plain": [
              "0"
            ]
          },
          "metadata": {},
          "execution_count": 50
        }
      ]
    },
    {
      "cell_type": "code",
      "source": [
        "v = 1\n",
        "G = H\n",
        "def next_step(v):\n",
        "    return [i for i in list(G[v]) if i in cycle]\n",
        "\n",
        "print(f'{next_step(3)}')\n",
        "#print(f'{step(step(1))}')\n"
      ],
      "metadata": {
        "id": "WvWbp75a-qtJ",
        "outputId": "38006446-10b8-477c-94d6-3db4b89b6558",
        "colab": {
          "base_uri": "https://localhost:8080/"
        }
      },
      "execution_count": 32,
      "outputs": [
        {
          "output_type": "stream",
          "name": "stdout",
          "text": [
            "[0, 1]\n"
          ]
        }
      ]
    },
    {
      "cell_type": "code",
      "source": [
        "find_cycle_or_sink(H,1)"
      ],
      "metadata": {
        "id": "4LpDLSmFNAw9",
        "outputId": "782e1193-c6f5-41f7-b192-4e82fd7dfbd9",
        "colab": {
          "base_uri": "https://localhost:8080/"
        }
      },
      "execution_count": 43,
      "outputs": [
        {
          "output_type": "execute_result",
          "data": {
            "text/plain": [
              "0"
            ]
          },
          "metadata": {},
          "execution_count": 43
        }
      ]
    },
    {
      "cell_type": "code",
      "source": [
        "for v in cycle:\n",
        "    print(f\"{v} has_path_to = {[i for i in cycle if nx.has_path(G,v,i)]}\")\n",
        "    print(f\"{v} connected_to = {[i for i in list(G[v]) if i in cycle]}\")"
      ],
      "metadata": {
        "id": "2xJfefwWHYnW",
        "outputId": "db0f9da4-b7f4-43a9-c83e-b596f245146e",
        "colab": {
          "base_uri": "https://localhost:8080/"
        }
      },
      "execution_count": 29,
      "outputs": [
        {
          "output_type": "stream",
          "name": "stdout",
          "text": [
            "1 has_path_to = [1, 2, 3, 0]\n",
            "1 connected_to = [2]\n",
            "2 has_path_to = [1, 2, 3, 0]\n",
            "2 connected_to = [3]\n",
            "3 has_path_to = [1, 2, 3, 0]\n",
            "3 connected_to = [0, 1]\n",
            "0 has_path_to = [1, 2, 3, 0]\n",
            "0 connected_to = [1, 2]\n"
          ]
        }
      ]
    },
    {
      "cell_type": "code",
      "source": [
        "# В этой функции требуется реализовать поиск треугольника по данному циклу\n",
        "def trim_cycle(G, cycle):\n",
        "    # Добавьте здесь ваше решение\n",
        "    pass"
      ],
      "metadata": {
        "id": "-NlzugBL-Ds4"
      },
      "execution_count": 16,
      "outputs": []
    }
  ]
}