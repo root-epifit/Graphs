{
  "nbformat": 4,
  "nbformat_minor": 0,
  "metadata": {
    "colab": {
      "name": "cw1_sol.ipynb",
      "provenance": [],
      "collapsed_sections": []
    },
    "kernelspec": {
      "display_name": "Python 3",
      "language": "python",
      "name": "python3"
    },
    "language_info": {
      "codemirror_mode": {
        "name": "ipython",
        "version": 3
      },
      "file_extension": ".py",
      "mimetype": "text/x-python",
      "name": "python",
      "nbconvert_exporter": "python",
      "pygments_lexer": "ipython3",
      "version": "3.7.6"
    }
  },
  "cells": [
    {
      "cell_type": "markdown",
      "metadata": {
        "id": "F7ns07Hos8rf"
      },
      "source": [
        "# Графы, занятие 1\n",
        "\n",
        "В этом ноутбуке мы рассмотрим базовую работу с графами"
      ]
    },
    {
      "cell_type": "code",
      "metadata": {
        "id": "RS7G9avas8rg"
      },
      "source": [
        "# Задаем граф\n",
        "\n",
        "import networkx as nx\n",
        "\n",
        "G = nx.Graph()\n",
        "\n",
        "G.add_edge('A','B')\n",
        "G.add_edges_from([('B','C'), ('C','A'), ('C','D'), ('C','E'),('D','E')])\n",
        "\n",
        "G.add_node('F')\n",
        "\n",
        "nodes=list(G.nodes())\n",
        "edges=list(G.edges())\n",
        "\n",
        "print(\"Список вершин:\",nodes)\n",
        "print(\"Список ребер:\",edges)\n",
        "\n",
        "num_nodes = G.number_of_nodes()\n",
        "num_edges = G.number_of_edges()\n",
        "\n",
        "print(\"Число вершин:\",num_nodes)\n",
        "print(\"Число ребер:\",num_edges)"
      ],
      "execution_count": null,
      "outputs": []
    },
    {
      "cell_type": "code",
      "metadata": {
        "id": "DJrPzpxrs8rl"
      },
      "source": [
        "# Рисуем граф\n",
        "\n",
        "nx.draw_networkx(G)"
      ],
      "execution_count": null,
      "outputs": []
    },
    {
      "cell_type": "code",
      "metadata": {
        "id": "7gAEvExEs8ro"
      },
      "source": [
        "# Рисуем граф более симпатично\n",
        "\n",
        "import matplotlib.pyplot as plt\n",
        "\n",
        "pos = {'A': (1, 1.5), 'B': (4, 0), 'C': (5, 2), 'D': (2.9, 2.2), 'E': (6, 0.5), 'F': (7.5, 1.5)}\n",
        "\n",
        "\n",
        "\n",
        "def draw_G():\n",
        "    options = {\n",
        "        \"font_size\": 20,\n",
        "        \"node_size\": 1500,\n",
        "        \"node_color\": \"white\",\n",
        "        \"edgecolors\": \"black\",\n",
        "        \"linewidths\": 3,\n",
        "        \"width\": 3,\n",
        "    }\n",
        "\n",
        "    plt.axis([0, 8.5, -0.5, 2.7])\n",
        "\n",
        "    nx.draw_networkx(G, pos, **options)\n",
        "    plt.show()\n",
        "    \n",
        "draw_G()\n"
      ],
      "execution_count": null,
      "outputs": []
    },
    {
      "cell_type": "code",
      "metadata": {
        "id": "cfLbD7p4s8rr"
      },
      "source": [
        "# Степени вершин\n",
        "\n",
        "print(\"Степень вершины A:\", G.degree('A'))\n",
        "\n",
        "print(\"Список всех вершин и степеней:\",G.degree())"
      ],
      "execution_count": null,
      "outputs": []
    },
    {
      "cell_type": "code",
      "metadata": {
        "id": "pfMx1Yfrs8rt"
      },
      "source": [
        "# Ищем соседей\n",
        "\n",
        "list(G['A'])"
      ],
      "execution_count": null,
      "outputs": []
    },
    {
      "cell_type": "code",
      "metadata": {
        "id": "qSPsFSE0vdKx"
      },
      "source": [
        "# Проверяем достижимость\n",
        "\n",
        "print(nx.has_path(G,'A','F'))\n",
        "G.add_edge('E','F')\n",
        "print(nx.has_path(G,'A','F'))\n",
        "G.remove_edge('E','F')\n"
      ],
      "execution_count": null,
      "outputs": []
    },
    {
      "cell_type": "code",
      "metadata": {
        "id": "u1tjnaELvdK0"
      },
      "source": [
        "# Связность\n",
        "\n",
        "#G.add_edge('E','F')\n",
        "#draw_G()\n",
        "\n",
        "print(\"Связен ли граф:\", nx.is_connected(G))\n",
        "print(\"Число компонент связности:\", nx.number_connected_components(G))\n",
        "\n",
        "#G.remove_edge('E','F')"
      ],
      "execution_count": null,
      "outputs": []
    },
    {
      "cell_type": "code",
      "metadata": {
        "id": "E5ptkdHMDghL"
      },
      "source": [
        "# Загружаем граф из файла\n",
        "\n",
        "\n",
        "G_am = nx.read_edgelist(\"amazon0302.txt\", create_using=nx.Graph(), nodetype=int, data=False)"
      ],
      "execution_count": null,
      "outputs": []
    },
    {
      "cell_type": "code",
      "metadata": {
        "id": "7qFwtBV3Dk-k"
      },
      "source": [
        "# Считаем вершины и ребра\n",
        "\n",
        "nodes = G_am.number_of_nodes()\n",
        "print(\"Число вершин: \", nodes)\n",
        "\n",
        "edges = G_am.number_of_edges()\n",
        "print(\"Число ребер: \", edges)"
      ],
      "execution_count": null,
      "outputs": []
    },
    {
      "cell_type": "code",
      "metadata": {
        "id": "PBqBuaiiDnBG"
      },
      "source": [
        "# Печатаем вершины\n",
        "\n",
        "G_am.nodes()"
      ],
      "execution_count": null,
      "outputs": []
    },
    {
      "cell_type": "code",
      "metadata": {
        "id": "debC94DYEBpl"
      },
      "source": [
        "# Перенумеруем вершины\n",
        "\n",
        "G_am = nx.convert_node_labels_to_integers(G_am)"
      ],
      "execution_count": null,
      "outputs": []
    },
    {
      "cell_type": "code",
      "metadata": {
        "id": "UgI4US5bECfz"
      },
      "source": [
        "# Печатаем вершины\n",
        "\n",
        "G_am.nodes()"
      ],
      "execution_count": null,
      "outputs": []
    },
    {
      "cell_type": "code",
      "metadata": {
        "id": "OLjmoimnEE5m"
      },
      "source": [
        "# Смотрим на окрестности вершин\n",
        "\n",
        "list(G_am[50])"
      ],
      "execution_count": null,
      "outputs": []
    },
    {
      "cell_type": "code",
      "metadata": {
        "id": "3ZIZD_OMEG78"
      },
      "source": [
        "# Рисуем фрагменты графа\n",
        "\n",
        "import matplotlib.pyplot as plt\n",
        "\n",
        "def draw_G(G):\n",
        "    options = {\n",
        "        \"node_size\": 3,\n",
        "        \"node_color\": \"black\",\n",
        "        \"edgecolors\": \"black\",\n",
        "        \"linewidths\": 1,\n",
        "        \"width\": 1,\n",
        "    }\n",
        "\n",
        "    nx.draw_networkx(G, with_labels=False, **options)\n",
        "    plt.show()\n",
        "    \n",
        "draw_G(G_am.subgraph(G_am[100]))"
      ],
      "execution_count": null,
      "outputs": []
    },
    {
      "cell_type": "code",
      "metadata": {
        "id": "L-JQqjEZEJEM"
      },
      "source": [
        "# Печатаем вершины заданной степени\n",
        "\n",
        "print([vertex for vertex, degree in G_am.degree() if degree == 100])\n"
      ],
      "execution_count": null,
      "outputs": []
    },
    {
      "cell_type": "code",
      "metadata": {
        "id": "LekRc-6TTWEf"
      },
      "source": [
        "# Генерируем случайный граф\n",
        "\n",
        "G = nx.generators.random_graphs.connected_watts_strogatz_graph(1000, 100, 0.5)\n",
        "print(f'Число вершин: {G.number_of_nodes()}')"
      ],
      "execution_count": null,
      "outputs": []
    },
    {
      "cell_type": "code",
      "metadata": {
        "id": "rOLA78vGYSOE"
      },
      "source": [
        "# В этом блоке нужно найти вершину максимальной степени в G\n",
        "\n"
      ],
      "execution_count": null,
      "outputs": []
    },
    {
      "cell_type": "markdown",
      "metadata": {
        "id": "aDnnq9CiSUKT"
      },
      "source": [
        "В следующем блоке нужно реализовать алгоритм, последовательно удаляющий вершину максимальной степени из G до тех пор, пока граф не перестанет быть связным\n",
        "\n",
        "Подобные конструкции используются для оценки устойчивости систем к отказу отдельных компонент. Близкий пример можно найти в этой статье: https://www.nature.com/articles/s41467-019-12915-x.pdf"
      ]
    },
    {
      "cell_type": "code",
      "metadata": {
        "id": "sdS6YuoqPANJ"
      },
      "source": [
        "# В этом блоке нужно реализовать алгоритм, последовательно удаляющий вершину максимальной степени из G до тех пор, \n",
        "# пока граф не перестанет быть связным\n",
        "\n",
        "def remove_social_people(G, components = 2):\n",
        "    # Добавьте сюда ваше решение\n",
        "\n",
        "    return G\n",
        "\n",
        "\n",
        "new_G = remove_social_people(G.copy())\n",
        "print(f'Число вершин: {new_G.number_of_nodes()}')\n",
        "draw_G(new_G)"
      ],
      "execution_count": null,
      "outputs": []
    }
  ]
}