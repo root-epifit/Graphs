{
 "cells": [
  {
   "cell_type": "markdown",
   "metadata": {
    "id": "F7ns07Hos8rf"
   },
   "source": [
    "# Графы, занятие 1\n",
    "\n",
    "В этом ноутбуке мы рассмотрим базовую работу с графами"
   ]
  },
  {
   "cell_type": "code",
   "execution_count": 25,
   "metadata": {
    "id": "RS7G9avas8rg"
   },
   "outputs": [
    {
     "ename": "ModuleNotFoundError",
     "evalue": "No module named 'networkx'",
     "output_type": "error",
     "traceback": [
      "\u001b[0;31m---------------------------------------------------------------------------\u001b[0m",
      "\u001b[0;31mModuleNotFoundError\u001b[0m                       Traceback (most recent call last)",
      "Cell \u001b[0;32mIn[25], line 3\u001b[0m\n\u001b[1;32m      1\u001b[0m \u001b[38;5;66;03m# Задаем граф\u001b[39;00m\n\u001b[0;32m----> 3\u001b[0m \u001b[38;5;28;01mimport\u001b[39;00m \u001b[38;5;21;01mnetworkx\u001b[39;00m \u001b[38;5;28;01mas\u001b[39;00m \u001b[38;5;21;01mnx\u001b[39;00m\n\u001b[1;32m      5\u001b[0m G \u001b[38;5;241m=\u001b[39m nx\u001b[38;5;241m.\u001b[39mGraph()\n\u001b[1;32m      7\u001b[0m G\u001b[38;5;241m.\u001b[39madd_edge(\u001b[38;5;124m'\u001b[39m\u001b[38;5;124mA\u001b[39m\u001b[38;5;124m'\u001b[39m,\u001b[38;5;124m'\u001b[39m\u001b[38;5;124mB\u001b[39m\u001b[38;5;124m'\u001b[39m)\n",
      "\u001b[0;31mModuleNotFoundError\u001b[0m: No module named 'networkx'"
     ]
    }
   ],
   "source": [
    "# Задаем граф\n",
    "\n",
    "import networkx as nx\n",
    "\n",
    "G = nx.Graph()\n",
    "\n",
    "G.add_edge('A','B')\n",
    "G.add_edges_from([('B','C'), ('C','A'), ('C','D'), ('C','E'),('D','E')])\n",
    "\n",
    "G.add_node('F')\n",
    "\n",
    "nodes=list(G.nodes())\n",
    "edges=list(G.edges())\n",
    "\n",
    "print(\"Список вершин:\",nodes)\n",
    "print(\"Список ребер:\",edges)\n",
    "\n",
    "num_nodes = G.number_of_nodes()\n",
    "num_edges = G.number_of_edges()\n",
    "\n",
    "print(\"Число вершин:\",num_nodes)\n",
    "print(\"Число ребер:\",num_edges)"
   ]
  },
  {
   "cell_type": "code",
   "execution_count": 24,
   "metadata": {
    "id": "DJrPzpxrs8rl"
   },
   "outputs": [
    {
     "ename": "NameError",
     "evalue": "name 'nx' is not defined",
     "output_type": "error",
     "traceback": [
      "\u001b[0;31m---------------------------------------------------------------------------\u001b[0m",
      "\u001b[0;31mNameError\u001b[0m                                 Traceback (most recent call last)",
      "Cell \u001b[0;32mIn[24], line 3\u001b[0m\n\u001b[1;32m      1\u001b[0m \u001b[38;5;66;03m# Рисуем граф\u001b[39;00m\n\u001b[0;32m----> 3\u001b[0m \u001b[43mnx\u001b[49m\u001b[38;5;241m.\u001b[39mdraw_networkx(G)\n",
      "\u001b[0;31mNameError\u001b[0m: name 'nx' is not defined"
     ]
    }
   ],
   "source": [
    "# Рисуем граф\n",
    "\n",
    "nx.draw_networkx(G)"
   ]
  },
  {
   "cell_type": "code",
   "execution_count": 19,
   "metadata": {
    "id": "7gAEvExEs8ro"
   },
   "outputs": [
    {
     "ename": "ModuleNotFoundError",
     "evalue": "No module named 'matplotlib'",
     "output_type": "error",
     "traceback": [
      "\u001b[0;31m---------------------------------------------------------------------------\u001b[0m",
      "\u001b[0;31mModuleNotFoundError\u001b[0m                       Traceback (most recent call last)",
      "Cell \u001b[0;32mIn[19], line 3\u001b[0m\n\u001b[1;32m      1\u001b[0m \u001b[38;5;66;03m# Рисуем граф более симпатично\u001b[39;00m\n\u001b[0;32m----> 3\u001b[0m \u001b[38;5;28;01mimport\u001b[39;00m \u001b[38;5;21;01mmatplotlib\u001b[39;00m\u001b[38;5;21;01m.\u001b[39;00m\u001b[38;5;21;01mpyplot\u001b[39;00m \u001b[38;5;28;01mas\u001b[39;00m \u001b[38;5;21;01mplt\u001b[39;00m\n\u001b[1;32m      5\u001b[0m pos \u001b[38;5;241m=\u001b[39m {\u001b[38;5;124m'\u001b[39m\u001b[38;5;124mA\u001b[39m\u001b[38;5;124m'\u001b[39m: (\u001b[38;5;241m1\u001b[39m, \u001b[38;5;241m1.5\u001b[39m), \u001b[38;5;124m'\u001b[39m\u001b[38;5;124mB\u001b[39m\u001b[38;5;124m'\u001b[39m: (\u001b[38;5;241m4\u001b[39m, \u001b[38;5;241m0\u001b[39m), \u001b[38;5;124m'\u001b[39m\u001b[38;5;124mC\u001b[39m\u001b[38;5;124m'\u001b[39m: (\u001b[38;5;241m5\u001b[39m, \u001b[38;5;241m2\u001b[39m), \u001b[38;5;124m'\u001b[39m\u001b[38;5;124mD\u001b[39m\u001b[38;5;124m'\u001b[39m: (\u001b[38;5;241m2.9\u001b[39m, \u001b[38;5;241m2.2\u001b[39m), \u001b[38;5;124m'\u001b[39m\u001b[38;5;124mE\u001b[39m\u001b[38;5;124m'\u001b[39m: (\u001b[38;5;241m6\u001b[39m, \u001b[38;5;241m0.5\u001b[39m), \u001b[38;5;124m'\u001b[39m\u001b[38;5;124mF\u001b[39m\u001b[38;5;124m'\u001b[39m: (\u001b[38;5;241m7.5\u001b[39m, \u001b[38;5;241m1.5\u001b[39m)}\n\u001b[1;32m      9\u001b[0m \u001b[38;5;28;01mdef\u001b[39;00m \u001b[38;5;21mdraw_G\u001b[39m():\n",
      "\u001b[0;31mModuleNotFoundError\u001b[0m: No module named 'matplotlib'"
     ]
    }
   ],
   "source": [
    "# Рисуем граф более симпатично\n",
    "\n",
    "import matplotlib.pyplot as plt\n",
    "\n",
    "pos = {'A': (1, 1.5), 'B': (4, 0), 'C': (5, 2), 'D': (2.9, 2.2), 'E': (6, 0.5), 'F': (7.5, 1.5)}\n",
    "\n",
    "\n",
    "\n",
    "def draw_G():\n",
    "    options = {\n",
    "        \"font_size\": 20,\n",
    "        \"node_size\": 1500,\n",
    "        \"node_color\": \"white\",\n",
    "        \"edgecolors\": \"black\",\n",
    "        \"linewidths\": 3,\n",
    "        \"width\": 3,\n",
    "    }\n",
    "\n",
    "    plt.axis([0, 8.5, -0.5, 2.7])\n",
    "\n",
    "    nx.draw_networkx(G, pos, **options)\n",
    "    plt.show()\n",
    "    \n",
    "draw_G()\n"
   ]
  },
  {
   "cell_type": "code",
   "execution_count": 20,
   "metadata": {
    "id": "cfLbD7p4s8rr"
   },
   "outputs": [
    {
     "ename": "NameError",
     "evalue": "name 'G' is not defined",
     "output_type": "error",
     "traceback": [
      "\u001b[0;31m---------------------------------------------------------------------------\u001b[0m",
      "\u001b[0;31mNameError\u001b[0m                                 Traceback (most recent call last)",
      "Cell \u001b[0;32mIn[20], line 3\u001b[0m\n\u001b[1;32m      1\u001b[0m \u001b[38;5;66;03m# Степени вершин\u001b[39;00m\n\u001b[0;32m----> 3\u001b[0m \u001b[38;5;28mprint\u001b[39m(\u001b[38;5;124m\"\u001b[39m\u001b[38;5;124mСтепень вершины A:\u001b[39m\u001b[38;5;124m\"\u001b[39m, \u001b[43mG\u001b[49m\u001b[38;5;241m.\u001b[39mdegree(\u001b[38;5;124m'\u001b[39m\u001b[38;5;124mA\u001b[39m\u001b[38;5;124m'\u001b[39m))\n\u001b[1;32m      5\u001b[0m \u001b[38;5;28mprint\u001b[39m(\u001b[38;5;124m\"\u001b[39m\u001b[38;5;124mСписок всех вершин и степеней:\u001b[39m\u001b[38;5;124m\"\u001b[39m,G\u001b[38;5;241m.\u001b[39mdegree())\n",
      "\u001b[0;31mNameError\u001b[0m: name 'G' is not defined"
     ]
    }
   ],
   "source": [
    "# Степени вершин\n",
    "\n",
    "print(\"Степень вершины A:\", G.degree('A'))\n",
    "\n",
    "print(\"Список всех вершин и степеней:\",G.degree())"
   ]
  },
  {
   "cell_type": "code",
   "execution_count": 21,
   "metadata": {
    "id": "pfMx1Yfrs8rt"
   },
   "outputs": [
    {
     "ename": "NameError",
     "evalue": "name 'G' is not defined",
     "output_type": "error",
     "traceback": [
      "\u001b[0;31m---------------------------------------------------------------------------\u001b[0m",
      "\u001b[0;31mNameError\u001b[0m                                 Traceback (most recent call last)",
      "Cell \u001b[0;32mIn[21], line 3\u001b[0m\n\u001b[1;32m      1\u001b[0m \u001b[38;5;66;03m# Ищем соседей\u001b[39;00m\n\u001b[0;32m----> 3\u001b[0m \u001b[38;5;28mlist\u001b[39m(\u001b[43mG\u001b[49m[\u001b[38;5;124m'\u001b[39m\u001b[38;5;124mA\u001b[39m\u001b[38;5;124m'\u001b[39m])\n",
      "\u001b[0;31mNameError\u001b[0m: name 'G' is not defined"
     ]
    }
   ],
   "source": [
    "# Ищем соседей\n",
    "\n",
    "list(G['A'])"
   ]
  },
  {
   "cell_type": "code",
   "execution_count": 22,
   "metadata": {
    "id": "qSPsFSE0vdKx"
   },
   "outputs": [
    {
     "ename": "NameError",
     "evalue": "name 'nx' is not defined",
     "output_type": "error",
     "traceback": [
      "\u001b[0;31m---------------------------------------------------------------------------\u001b[0m",
      "\u001b[0;31mNameError\u001b[0m                                 Traceback (most recent call last)",
      "Cell \u001b[0;32mIn[22], line 3\u001b[0m\n\u001b[1;32m      1\u001b[0m \u001b[38;5;66;03m# Проверяем достижимость\u001b[39;00m\n\u001b[0;32m----> 3\u001b[0m \u001b[38;5;28mprint\u001b[39m(\u001b[43mnx\u001b[49m\u001b[38;5;241m.\u001b[39mhas_path(G,\u001b[38;5;124m'\u001b[39m\u001b[38;5;124mA\u001b[39m\u001b[38;5;124m'\u001b[39m,\u001b[38;5;124m'\u001b[39m\u001b[38;5;124mF\u001b[39m\u001b[38;5;124m'\u001b[39m))\n\u001b[1;32m      4\u001b[0m G\u001b[38;5;241m.\u001b[39madd_edge(\u001b[38;5;124m'\u001b[39m\u001b[38;5;124mE\u001b[39m\u001b[38;5;124m'\u001b[39m,\u001b[38;5;124m'\u001b[39m\u001b[38;5;124mF\u001b[39m\u001b[38;5;124m'\u001b[39m)\n\u001b[1;32m      5\u001b[0m \u001b[38;5;28mprint\u001b[39m(nx\u001b[38;5;241m.\u001b[39mhas_path(G,\u001b[38;5;124m'\u001b[39m\u001b[38;5;124mA\u001b[39m\u001b[38;5;124m'\u001b[39m,\u001b[38;5;124m'\u001b[39m\u001b[38;5;124mF\u001b[39m\u001b[38;5;124m'\u001b[39m))\n",
      "\u001b[0;31mNameError\u001b[0m: name 'nx' is not defined"
     ]
    }
   ],
   "source": [
    "# Проверяем достижимость\n",
    "\n",
    "print(nx.has_path(G,'A','F'))\n",
    "G.add_edge('E','F')\n",
    "print(nx.has_path(G,'A','F'))\n",
    "G.remove_edge('E','F')\n"
   ]
  },
  {
   "cell_type": "code",
   "execution_count": 8,
   "metadata": {
    "id": "u1tjnaELvdK0"
   },
   "outputs": [
    {
     "ename": "NameError",
     "evalue": "name 'nx' is not defined",
     "output_type": "error",
     "traceback": [
      "\u001b[0;31m---------------------------------------------------------------------------\u001b[0m",
      "\u001b[0;31mNameError\u001b[0m                                 Traceback (most recent call last)",
      "Cell \u001b[0;32mIn[8], line 6\u001b[0m\n\u001b[1;32m      1\u001b[0m \u001b[38;5;66;03m# Связность\u001b[39;00m\n\u001b[1;32m      2\u001b[0m \n\u001b[1;32m      3\u001b[0m \u001b[38;5;66;03m#G.add_edge('E','F')\u001b[39;00m\n\u001b[1;32m      4\u001b[0m \u001b[38;5;66;03m#draw_G()\u001b[39;00m\n\u001b[0;32m----> 6\u001b[0m \u001b[38;5;28mprint\u001b[39m(\u001b[38;5;124m\"\u001b[39m\u001b[38;5;124mСвязен ли граф:\u001b[39m\u001b[38;5;124m\"\u001b[39m, \u001b[43mnx\u001b[49m\u001b[38;5;241m.\u001b[39mis_connected(G))\n\u001b[1;32m      7\u001b[0m \u001b[38;5;28mprint\u001b[39m(\u001b[38;5;124m\"\u001b[39m\u001b[38;5;124mЧисло компонент связности:\u001b[39m\u001b[38;5;124m\"\u001b[39m, nx\u001b[38;5;241m.\u001b[39mnumber_connected_components(G))\n\u001b[1;32m      9\u001b[0m \u001b[38;5;66;03m#G.remove_edge('E','F')\u001b[39;00m\n",
      "\u001b[0;31mNameError\u001b[0m: name 'nx' is not defined"
     ]
    }
   ],
   "source": [
    "# Связность\n",
    "\n",
    "#G.add_edge('E','F')\n",
    "#draw_G()\n",
    "\n",
    "print(\"Связен ли граф:\", nx.is_connected(G))\n",
    "print(\"Число компонент связности:\", nx.number_connected_components(G))\n",
    "\n",
    "#G.remove_edge('E','F')"
   ]
  },
  {
   "cell_type": "code",
   "execution_count": 9,
   "metadata": {
    "id": "E5ptkdHMDghL"
   },
   "outputs": [
    {
     "ename": "NameError",
     "evalue": "name 'nx' is not defined",
     "output_type": "error",
     "traceback": [
      "\u001b[0;31m---------------------------------------------------------------------------\u001b[0m",
      "\u001b[0;31mNameError\u001b[0m                                 Traceback (most recent call last)",
      "Cell \u001b[0;32mIn[9], line 4\u001b[0m\n\u001b[1;32m      1\u001b[0m \u001b[38;5;66;03m# Загружаем граф из файла\u001b[39;00m\n\u001b[0;32m----> 4\u001b[0m G_am \u001b[38;5;241m=\u001b[39m \u001b[43mnx\u001b[49m\u001b[38;5;241m.\u001b[39mread_edgelist(\u001b[38;5;124m\"\u001b[39m\u001b[38;5;124mamazon0302.txt\u001b[39m\u001b[38;5;124m\"\u001b[39m, create_using\u001b[38;5;241m=\u001b[39mnx\u001b[38;5;241m.\u001b[39mGraph(), nodetype\u001b[38;5;241m=\u001b[39m\u001b[38;5;28mint\u001b[39m, data\u001b[38;5;241m=\u001b[39m\u001b[38;5;28;01mFalse\u001b[39;00m)\n",
      "\u001b[0;31mNameError\u001b[0m: name 'nx' is not defined"
     ]
    }
   ],
   "source": [
    "# Загружаем граф из файла\n",
    "\n",
    "\n",
    "G_am = nx.read_edgelist(\"amazon0302.txt\", create_using=nx.Graph(), nodetype=int, data=False)"
   ]
  },
  {
   "cell_type": "code",
   "execution_count": 10,
   "metadata": {
    "id": "7qFwtBV3Dk-k"
   },
   "outputs": [
    {
     "ename": "NameError",
     "evalue": "name 'G_am' is not defined",
     "output_type": "error",
     "traceback": [
      "\u001b[0;31m---------------------------------------------------------------------------\u001b[0m",
      "\u001b[0;31mNameError\u001b[0m                                 Traceback (most recent call last)",
      "Cell \u001b[0;32mIn[10], line 3\u001b[0m\n\u001b[1;32m      1\u001b[0m \u001b[38;5;66;03m# Считаем вершины и ребра\u001b[39;00m\n\u001b[0;32m----> 3\u001b[0m nodes \u001b[38;5;241m=\u001b[39m \u001b[43mG_am\u001b[49m\u001b[38;5;241m.\u001b[39mnumber_of_nodes()\n\u001b[1;32m      4\u001b[0m \u001b[38;5;28mprint\u001b[39m(\u001b[38;5;124m\"\u001b[39m\u001b[38;5;124mЧисло вершин: \u001b[39m\u001b[38;5;124m\"\u001b[39m, nodes)\n\u001b[1;32m      6\u001b[0m edges \u001b[38;5;241m=\u001b[39m G_am\u001b[38;5;241m.\u001b[39mnumber_of_edges()\n",
      "\u001b[0;31mNameError\u001b[0m: name 'G_am' is not defined"
     ]
    }
   ],
   "source": [
    "# Считаем вершины и ребра\n",
    "\n",
    "nodes = G_am.number_of_nodes()\n",
    "print(\"Число вершин: \", nodes)\n",
    "\n",
    "edges = G_am.number_of_edges()\n",
    "print(\"Число ребер: \", edges)"
   ]
  },
  {
   "cell_type": "code",
   "execution_count": 11,
   "metadata": {
    "id": "PBqBuaiiDnBG"
   },
   "outputs": [
    {
     "ename": "NameError",
     "evalue": "name 'G_am' is not defined",
     "output_type": "error",
     "traceback": [
      "\u001b[0;31m---------------------------------------------------------------------------\u001b[0m",
      "\u001b[0;31mNameError\u001b[0m                                 Traceback (most recent call last)",
      "Cell \u001b[0;32mIn[11], line 3\u001b[0m\n\u001b[1;32m      1\u001b[0m \u001b[38;5;66;03m# Печатаем вершины\u001b[39;00m\n\u001b[0;32m----> 3\u001b[0m \u001b[43mG_am\u001b[49m\u001b[38;5;241m.\u001b[39mnodes()\n",
      "\u001b[0;31mNameError\u001b[0m: name 'G_am' is not defined"
     ]
    }
   ],
   "source": [
    "# Печатаем вершины\n",
    "\n",
    "G_am.nodes()"
   ]
  },
  {
   "cell_type": "code",
   "execution_count": 12,
   "metadata": {
    "id": "debC94DYEBpl"
   },
   "outputs": [
    {
     "ename": "NameError",
     "evalue": "name 'nx' is not defined",
     "output_type": "error",
     "traceback": [
      "\u001b[0;31m---------------------------------------------------------------------------\u001b[0m",
      "\u001b[0;31mNameError\u001b[0m                                 Traceback (most recent call last)",
      "Cell \u001b[0;32mIn[12], line 3\u001b[0m\n\u001b[1;32m      1\u001b[0m \u001b[38;5;66;03m# Перенумеруем вершины\u001b[39;00m\n\u001b[0;32m----> 3\u001b[0m G_am \u001b[38;5;241m=\u001b[39m \u001b[43mnx\u001b[49m\u001b[38;5;241m.\u001b[39mconvert_node_labels_to_integers(G_am)\n",
      "\u001b[0;31mNameError\u001b[0m: name 'nx' is not defined"
     ]
    }
   ],
   "source": [
    "# Перенумеруем вершины\n",
    "\n",
    "G_am = nx.convert_node_labels_to_integers(G_am)"
   ]
  },
  {
   "cell_type": "code",
   "execution_count": 13,
   "metadata": {
    "id": "UgI4US5bECfz"
   },
   "outputs": [
    {
     "ename": "NameError",
     "evalue": "name 'G_am' is not defined",
     "output_type": "error",
     "traceback": [
      "\u001b[0;31m---------------------------------------------------------------------------\u001b[0m",
      "\u001b[0;31mNameError\u001b[0m                                 Traceback (most recent call last)",
      "Cell \u001b[0;32mIn[13], line 3\u001b[0m\n\u001b[1;32m      1\u001b[0m \u001b[38;5;66;03m# Печатаем вершины\u001b[39;00m\n\u001b[0;32m----> 3\u001b[0m \u001b[43mG_am\u001b[49m\u001b[38;5;241m.\u001b[39mnodes()\n",
      "\u001b[0;31mNameError\u001b[0m: name 'G_am' is not defined"
     ]
    }
   ],
   "source": [
    "# Печатаем вершины\n",
    "\n",
    "G_am.nodes()"
   ]
  },
  {
   "cell_type": "code",
   "execution_count": 14,
   "metadata": {
    "id": "OLjmoimnEE5m"
   },
   "outputs": [
    {
     "ename": "NameError",
     "evalue": "name 'G_am' is not defined",
     "output_type": "error",
     "traceback": [
      "\u001b[0;31m---------------------------------------------------------------------------\u001b[0m",
      "\u001b[0;31mNameError\u001b[0m                                 Traceback (most recent call last)",
      "Cell \u001b[0;32mIn[14], line 3\u001b[0m\n\u001b[1;32m      1\u001b[0m \u001b[38;5;66;03m# Смотрим на окрестности вершин\u001b[39;00m\n\u001b[0;32m----> 3\u001b[0m \u001b[38;5;28mlist\u001b[39m(\u001b[43mG_am\u001b[49m[\u001b[38;5;241m50\u001b[39m])\n",
      "\u001b[0;31mNameError\u001b[0m: name 'G_am' is not defined"
     ]
    }
   ],
   "source": [
    "# Смотрим на окрестности вершин\n",
    "\n",
    "list(G_am[50])"
   ]
  },
  {
   "cell_type": "code",
   "execution_count": 15,
   "metadata": {
    "id": "3ZIZD_OMEG78"
   },
   "outputs": [
    {
     "ename": "ModuleNotFoundError",
     "evalue": "No module named 'matplotlib'",
     "output_type": "error",
     "traceback": [
      "\u001b[0;31m---------------------------------------------------------------------------\u001b[0m",
      "\u001b[0;31mModuleNotFoundError\u001b[0m                       Traceback (most recent call last)",
      "Cell \u001b[0;32mIn[15], line 3\u001b[0m\n\u001b[1;32m      1\u001b[0m \u001b[38;5;66;03m# Рисуем фрагменты графа\u001b[39;00m\n\u001b[0;32m----> 3\u001b[0m \u001b[38;5;28;01mimport\u001b[39;00m \u001b[38;5;21;01mmatplotlib\u001b[39;00m\u001b[38;5;21;01m.\u001b[39;00m\u001b[38;5;21;01mpyplot\u001b[39;00m \u001b[38;5;28;01mas\u001b[39;00m \u001b[38;5;21;01mplt\u001b[39;00m\n\u001b[1;32m      5\u001b[0m \u001b[38;5;28;01mdef\u001b[39;00m \u001b[38;5;21mdraw_G\u001b[39m(G):\n\u001b[1;32m      6\u001b[0m     options \u001b[38;5;241m=\u001b[39m {\n\u001b[1;32m      7\u001b[0m         \u001b[38;5;124m\"\u001b[39m\u001b[38;5;124mnode_size\u001b[39m\u001b[38;5;124m\"\u001b[39m: \u001b[38;5;241m3\u001b[39m,\n\u001b[1;32m      8\u001b[0m         \u001b[38;5;124m\"\u001b[39m\u001b[38;5;124mnode_color\u001b[39m\u001b[38;5;124m\"\u001b[39m: \u001b[38;5;124m\"\u001b[39m\u001b[38;5;124mblack\u001b[39m\u001b[38;5;124m\"\u001b[39m,\n\u001b[0;32m   (...)\u001b[0m\n\u001b[1;32m     11\u001b[0m         \u001b[38;5;124m\"\u001b[39m\u001b[38;5;124mwidth\u001b[39m\u001b[38;5;124m\"\u001b[39m: \u001b[38;5;241m1\u001b[39m,\n\u001b[1;32m     12\u001b[0m     }\n",
      "\u001b[0;31mModuleNotFoundError\u001b[0m: No module named 'matplotlib'"
     ]
    }
   ],
   "source": [
    "# Рисуем фрагменты графа\n",
    "\n",
    "import matplotlib.pyplot as plt\n",
    "\n",
    "def draw_G(G):\n",
    "    options = {\n",
    "        \"node_size\": 3,\n",
    "        \"node_color\": \"black\",\n",
    "        \"edgecolors\": \"black\",\n",
    "        \"linewidths\": 1,\n",
    "        \"width\": 1,\n",
    "    }\n",
    "\n",
    "    nx.draw_networkx(G, with_labels=False, **options)\n",
    "    plt.show()\n",
    "    \n",
    "draw_G(G_am.subgraph(G_am[100]))"
   ]
  },
  {
   "cell_type": "code",
   "execution_count": 16,
   "metadata": {
    "id": "L-JQqjEZEJEM"
   },
   "outputs": [
    {
     "ename": "NameError",
     "evalue": "name 'G_am' is not defined",
     "output_type": "error",
     "traceback": [
      "\u001b[0;31m---------------------------------------------------------------------------\u001b[0m",
      "\u001b[0;31mNameError\u001b[0m                                 Traceback (most recent call last)",
      "Cell \u001b[0;32mIn[16], line 3\u001b[0m\n\u001b[1;32m      1\u001b[0m \u001b[38;5;66;03m# Печатаем вершины заданной степени\u001b[39;00m\n\u001b[0;32m----> 3\u001b[0m \u001b[38;5;28mprint\u001b[39m([vertex \u001b[38;5;28;01mfor\u001b[39;00m vertex, degree \u001b[38;5;129;01min\u001b[39;00m \u001b[43mG_am\u001b[49m\u001b[38;5;241m.\u001b[39mdegree() \u001b[38;5;28;01mif\u001b[39;00m degree \u001b[38;5;241m==\u001b[39m \u001b[38;5;241m100\u001b[39m])\n",
      "\u001b[0;31mNameError\u001b[0m: name 'G_am' is not defined"
     ]
    }
   ],
   "source": [
    "# Печатаем вершины заданной степени\n",
    "\n",
    "print([vertex for vertex, degree in G_am.degree() if degree == 100])\n"
   ]
  },
  {
   "cell_type": "code",
   "execution_count": null,
   "metadata": {
    "id": "LekRc-6TTWEf"
   },
   "outputs": [],
   "source": [
    "# Генерируем случайный граф\n",
    "\n",
    "G = nx.generators.random_graphs.connected_watts_strogatz_graph(1000, 100, 0.5)\n",
    "print(f'Число вершин: {G.number_of_nodes()}')"
   ]
  },
  {
   "cell_type": "code",
   "execution_count": null,
   "metadata": {
    "id": "rOLA78vGYSOE"
   },
   "outputs": [],
   "source": [
    "# В этом блоке нужно найти вершину максимальной степени в G\n",
    "\n",
    "print(max(G.degree(), key = lambda pair: pair[1])[0])"
   ]
  },
  {
   "cell_type": "markdown",
   "metadata": {
    "id": "aDnnq9CiSUKT"
   },
   "source": [
    "В следующем блоке нужно реализовать алгоритм, последовательно удаляющий вершину максимальной степени из G до тех пор, пока граф не перестанет быть связным\n",
    "\n",
    "Подобные конструкции используются для оценки устойчивости систем к отказу отдельных компонент. Близкий пример можно найти в этой статье: https://www.nature.com/articles/s41467-019-12915-x.pdf"
   ]
  },
  {
   "cell_type": "code",
   "execution_count": null,
   "metadata": {
    "id": "sdS6YuoqPANJ"
   },
   "outputs": [],
   "source": [
    "# В этом блоке нужно реализовать алгоритм, последовательно удаляющий вершину максимальной степени из G до тех пор, \n",
    "# пока граф не перестанет быть связным\n",
    "\n",
    "def remove_social_people(G, components = 2):\n",
    "    # Добавьте сюда ваше решение\n",
    "    while nx.number_connected_components(G) < components:\n",
    "        most_social, _ = max(G.degree, key = lambda pair: pair[1])\n",
    "        G.remove_node(most_social)\n",
    "    return G\n",
    "\n",
    "\n",
    "new_G = remove_social_people(G.copy())\n",
    "print(f'Число вершин: {new_G.number_of_nodes()}')\n",
    "draw_G(new_G)"
   ]
  }
 ],
 "metadata": {
  "colab": {
   "collapsed_sections": [],
   "name": "cw1_sol.ipynb",
   "provenance": []
  },
  "kernelspec": {
   "display_name": "Python 3 (ipykernel)",
   "language": "python",
   "name": "python3"
  },
  "language_info": {
   "codemirror_mode": {
    "name": "ipython",
    "version": 3
   },
   "file_extension": ".py",
   "mimetype": "text/x-python",
   "name": "python",
   "nbconvert_exporter": "python",
   "pygments_lexer": "ipython3",
   "version": "3.8.9"
  }
 },
 "nbformat": 4,
 "nbformat_minor": 1
}
